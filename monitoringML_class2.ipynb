{
 "cells": [
  {
   "cell_type": "markdown",
   "id": "d8e87767-d834-4db4-a806-fafa2127b024",
   "metadata": {},
   "source": [
    "## Sagemaker feature store "
   ]
  },
  {
   "cell_type": "markdown",
   "id": "17461676-f2e8-434c-92ad-a214149c6006",
   "metadata": {},
   "source": [
    "The code below shows you how to create a Feature Store FeatureGroup. To create it, you will first create the class (FeatureGroup() with its arguments name and sagemaker_session. Then you need to load the definitions, which can be done by passing a Panda's dataframe. Next, you can create the feature store by calling the create method."
   ]
  },
  {
   "cell_type": "code",
   "execution_count": null,
   "id": "e46bb9d6-1c06-40ec-909a-d8b3cb88e6e1",
   "metadata": {},
   "outputs": [],
   "source": [
    "from sagemaker.feature_store.feature_group import FeatureGroup\n",
    "\n",
    "feature_group = FeatureGroup(\n",
    "    name='my-group', sagemaker_session=sagemaker_session)\n",
    "\n",
    "feature_group.load_feature_definitions(data_frame=data)\n",
    "\n",
    "feature_group.create(\n",
    "    s3_uri=f\"s3://{s3_bucket_name}/{prefix}\",\n",
    "    record_identifier_name=record_identifier,\n",
    "    event_time_feature_name=\"EventTime\",\n",
    "    role_arn=role)"
   ]
  },
  {
   "cell_type": "markdown",
   "id": "b8d53a1c-3cc2-4737-8adf-8216358e1867",
   "metadata": {},
   "source": [
    "Creating a feature store doesn't mean there is data ready for use. You also need to ingest data to the datastore by calling the ingest method."
   ]
  },
  {
   "cell_type": "code",
   "execution_count": null,
   "id": "bc594c9b-a043-4e5e-9414-77a89a27cefa",
   "metadata": {},
   "outputs": [],
   "source": [
    "feature_group.ingest(data_frame=test_data)"
   ]
  },
  {
   "cell_type": "code",
   "execution_count": null,
   "id": "42a0b273-c9fb-4467-9cf4-8588d872a9b7",
   "metadata": {},
   "outputs": [],
   "source": [
    "# To get records from the feature store, you can use the SageMaker runtime client.\n",
    "runtime = sagemaker_session.boto_session.client(\n",
    "  'sagemaker-featurestore-runtime',\n",
    "  region_name=region)\n",
    "\n",
    "runtime.get_record(\n",
    "    FeatureGroupName=feature_group_name,\n",
    "    RecordIdentifierValueAsString=some_id_string)"
   ]
  },
  {
   "cell_type": "markdown",
   "id": "4563de7e-8f1d-47f3-8745-7bde9767d9bc",
   "metadata": {},
   "source": [
    "## Introduction to Monitoring ML Models"
   ]
  },
  {
   "cell_type": "markdown",
   "id": "327507b1-d10f-42e7-a5b9-129386e0b647",
   "metadata": {},
   "source": [
    "One of the key objects is the DataCaptureConfig We provide this to the deploy function to capture events from the API (such as requests and responses)."
   ]
  },
  {
   "cell_type": "code",
   "execution_count": null,
   "id": "f336a022-dce5-4672-a1f6-d3db8f615fcc",
   "metadata": {},
   "outputs": [],
   "source": [
    "capture_uri = f's3://{bucket}/data-capture'\n",
    "data_capture_config = DataCaptureConfig(...)\n",
    "\n",
    "xgb_predictor = model.deploy(\n",
    "    ...\n",
    "    data_capture_config=data_capture_config\n",
    ")\n",
    "\n",
    "# Now that we've configured our model for monitoring, we can define a Model Monitor class.\n",
    "\n",
    "my_monitor = DefaultModelMonitor(\n",
    "    role=role,\n",
    "    instance_count=1,\n",
    "    instance_type='ml.m5.xlarge',\n",
    "    volume_size_in_gb=20,\n",
    "    max_runtime_in_seconds=3600,\n",
    ")\n",
    "\n",
    "\n",
    "# Baselining is a powerful capability of Model Monitor that \n",
    "# lets us automatically suggest guide rails for our model.\n",
    "\n",
    "my_monitor.suggest_baseline(\n",
    "    baseline_dataset=s3_uri,\n",
    "    dataset_format=DatasetFormat.csv(header=False),\n",
    ")\n",
    "\n",
    "# Finally, we can schedule the monitoring job to run hourly (or daily, or any cron expression)\n",
    "\n",
    "my_monitor.create_monitoring_schedule(\n",
    "    monitor_schedule_name=my_monitoring_schedule_name,\n",
    "    endpoint_input=endpoint_name,\n",
    "    statistics=my_monitor.baseline_statistics(),\n",
    "    constraints=my_monitor.suggested_constraints(),\n",
    "    schedule_cron_expression=CronExpressionGenerator.hourly(),\n",
    ")\n"
   ]
  },
  {
   "cell_type": "markdown",
   "id": "54c6fc40-0478-4295-8bf0-428c7c0bbc8c",
   "metadata": {},
   "source": [
    "### SageMaker Clarify"
   ]
  },
  {
   "cell_type": "markdown",
   "id": "2eceac2f-74c3-4eb7-841c-3471d4edae51",
   "metadata": {},
   "source": [
    "We covered several of the Clarify functions and provided explanations about how we use them. Beginning with the ModelExplainabilityMonitor"
   ]
  },
  {
   "cell_type": "code",
   "execution_count": null,
   "id": "c69d3da2-a132-49d5-9671-ef6d9c6ba780",
   "metadata": {},
   "outputs": [],
   "source": [
    "ModelExplainabilityMonitor(\n",
    "    role=role,\n",
    "    sagemaker_session=session,\n",
    "    max_runtime_in_seconds=timeout_duration,\n",
    ")"
   ]
  },
  {
   "cell_type": "markdown",
   "id": "a0862ba3-f118-4125-9e8d-5c6d39e25fd4",
   "metadata": {},
   "source": [
    " We also covered how Clarify comes with several of its own configuration functions, depending on what task you're using it for. We shared an example, SHAPConfig for explainability analyses that use the SHAP algorithm. \n",
    "\n",
    "shap_config = sagemaker.clarify.SHAPConfig(\n",
    "    ...\n",
    ")\n",
    "\n",
    "Lastly, we covered how Clarify uses the same create_monitoring_schedule that you learned about when we reviewed Model Monitor."
   ]
  },
  {
   "cell_type": "code",
   "execution_count": null,
   "id": "b257bb23-e4b8-4bfc-a24a-91f1714dda59",
   "metadata": {},
   "outputs": [],
   "source": []
  },
  {
   "cell_type": "code",
   "execution_count": null,
   "id": "cff7bfaf-608c-4d28-ace8-44b005616692",
   "metadata": {},
   "outputs": [],
   "source": []
  },
  {
   "cell_type": "code",
   "execution_count": null,
   "id": "321f842f-8873-4d7a-b62a-c6d426fdb948",
   "metadata": {},
   "outputs": [],
   "source": []
  }
 ],
 "metadata": {
  "kernelspec": {
   "display_name": "Python 3 (ipykernel)",
   "language": "python",
   "name": "python3"
  },
  "language_info": {
   "codemirror_mode": {
    "name": "ipython",
    "version": 3
   },
   "file_extension": ".py",
   "mimetype": "text/x-python",
   "name": "python",
   "nbconvert_exporter": "python",
   "pygments_lexer": "ipython3",
   "version": "3.9.4"
  }
 },
 "nbformat": 4,
 "nbformat_minor": 5
}
