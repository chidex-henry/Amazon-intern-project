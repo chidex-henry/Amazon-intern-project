{
 "cells": [
  {
   "cell_type": "code",
   "execution_count": 1,
   "id": "84fcbdf2-afda-48c3-a6f1-661061e397f0",
   "metadata": {},
   "outputs": [],
   "source": [
    "import mopdbrs2\n"
   ]
  },
  {
   "cell_type": "code",
   "execution_count": 2,
   "id": "d8041c29-de30-4316-bd7f-5486c3309e66",
   "metadata": {},
   "outputs": [],
   "source": [
    "import pg8000"
   ]
  },
  {
   "cell_type": "code",
   "execution_count": 3,
   "id": "873c2593-31d9-4448-aadf-a36f15175c5a",
   "metadata": {},
   "outputs": [
    {
     "name": "stderr",
     "output_type": "stream",
     "text": [
      "/home/ukaec/anaconda3/envs/your_env_name/lib/python3.7/site-packages/urllib3/connectionpool.py:1020: InsecureRequestWarning: Unverified HTTPS request is being made to host 'iibs-midway.corp.amazon.com'. Adding certificate verification is strongly advised. See: https://urllib3.readthedocs.io/en/latest/advanced-usage.html#ssl-warnings\n",
      "  InsecureRequestWarning,\n",
      "/home/ukaec/anaconda3/envs/your_env_name/lib/python3.7/site-packages/urllib3/connectionpool.py:1020: InsecureRequestWarning: Unverified HTTPS request is being made to host 'midway-auth.amazon.com'. Adding certificate verification is strongly advised. See: https://urllib3.readthedocs.io/en/latest/advanced-usage.html#ssl-warnings\n",
      "  InsecureRequestWarning,\n",
      "/home/ukaec/anaconda3/envs/your_env_name/lib/python3.7/site-packages/urllib3/connectionpool.py:1020: InsecureRequestWarning: Unverified HTTPS request is being made to host 'iibs-midway.corp.amazon.com'. Adding certificate verification is strongly advised. See: https://urllib3.readthedocs.io/en/latest/advanced-usage.html#ssl-warnings\n",
      "  InsecureRequestWarning,\n",
      "/home/ukaec/anaconda3/envs/your_env_name/lib/python3.7/site-packages/urllib3/connectionpool.py:1020: InsecureRequestWarning: Unverified HTTPS request is being made to host 'iibs-midway.corp.amazon.com'. Adding certificate verification is strongly advised. See: https://urllib3.readthedocs.io/en/latest/advanced-usage.html#ssl-warnings\n",
      "  InsecureRequestWarning,\n"
     ]
    }
   ],
   "source": [
    "creds = mopdbrs2.get_creds()\n",
    "\n",
    "creds['ssl_context']=True\n",
    "\n",
    "con = pg8000.connect(**creds) \n",
    "\n",
    "\n"
   ]
  },
  {
   "cell_type": "code",
   "execution_count": 4,
   "id": "3fbbd00d-842f-473c-a9a5-1f4198589894",
   "metadata": {},
   "outputs": [],
   "source": [
    "import pandas as pd \n",
    "import matplotlib as mpl\n",
    "import matplotlib.pyplot as plt\n",
    "import seaborn as sns \n",
    "import numpy as np \n",
    "from dateutil.parser import parse\n",
    "import math\n",
    "import random "
   ]
  },
  {
   "cell_type": "code",
   "execution_count": 5,
   "id": "e9a7f75c-121a-479a-b092-d74c563d8839",
   "metadata": {},
   "outputs": [
    {
     "data": {
      "text/html": [
       "<div>\n",
       "<style scoped>\n",
       "    .dataframe tbody tr th:only-of-type {\n",
       "        vertical-align: middle;\n",
       "    }\n",
       "\n",
       "    .dataframe tbody tr th {\n",
       "        vertical-align: top;\n",
       "    }\n",
       "\n",
       "    .dataframe thead th {\n",
       "        text-align: right;\n",
       "    }\n",
       "</style>\n",
       "<table border=\"1\" class=\"dataframe\">\n",
       "  <thead>\n",
       "    <tr style=\"text-align: right;\">\n",
       "      <th></th>\n",
       "      <th>zipcode</th>\n",
       "      <th>pkgs</th>\n",
       "    </tr>\n",
       "    <tr>\n",
       "      <th>ship_week</th>\n",
       "      <th></th>\n",
       "      <th></th>\n",
       "    </tr>\n",
       "  </thead>\n",
       "  <tbody>\n",
       "    <tr>\n",
       "      <th>2017-05-14</th>\n",
       "      <td>37217</td>\n",
       "      <td>3217</td>\n",
       "    </tr>\n",
       "    <tr>\n",
       "      <th>2017-05-14</th>\n",
       "      <td>37920</td>\n",
       "      <td>4184</td>\n",
       "    </tr>\n",
       "    <tr>\n",
       "      <th>2017-05-21</th>\n",
       "      <td>37217</td>\n",
       "      <td>3135</td>\n",
       "    </tr>\n",
       "    <tr>\n",
       "      <th>2017-05-21</th>\n",
       "      <td>37920</td>\n",
       "      <td>4196</td>\n",
       "    </tr>\n",
       "    <tr>\n",
       "      <th>2017-05-28</th>\n",
       "      <td>37217</td>\n",
       "      <td>3039</td>\n",
       "    </tr>\n",
       "  </tbody>\n",
       "</table>\n",
       "</div>"
      ],
      "text/plain": [
       "           zipcode  pkgs\n",
       "ship_week               \n",
       "2017-05-14   37217  3217\n",
       "2017-05-14   37920  4184\n",
       "2017-05-21   37217  3135\n",
       "2017-05-21   37920  4196\n",
       "2017-05-28   37217  3039"
      ]
     },
     "execution_count": 5,
     "metadata": {},
     "output_type": "execute_result"
    }
   ],
   "source": [
    "\n",
    "sql= \"\"\"\n",
    "    WITH dosp AS (SELECT trunc(dateadd('day', -1, date_trunc('week', dateadd('day', 1, ship_day)))) AS ship_week\n",
    "    ,SUBSTRING(shipping_address_postal_code,1,5) AS zipcode\n",
    "    ,OTM_OBCUST_PKG_REC_ID\n",
    "    ,warehouse_id\n",
    "    ,CASE \n",
    "      WHEN customer_ship_option like '%%vendor%%' THEN 1000  /* vendor return packages: only captured for calculating UPS total packages */ \n",
    "      WHEN marketplace_id in (1,157860,926620) then 1  /* AFN packages */\n",
    "      WHEN marketplace_id in (1034080,188630,1065810,1119740,190640) then 100  /* Zappos packages */\n",
    "      ELSE 999 /* Other Affiliates */\n",
    "    END AS marketplace_id\n",
    "    FROM booker.d_outbound_shipment_packages_na\n",
    "    WHERE region_id = 1\n",
    "      AND legal_entity_id = 101\n",
    "      AND customer_ship_option is not null\n",
    "      AND upper(ship_method) NOT IN ('UNKNOWN', 'MERCHANT', 'CLEANUP', 'LIQUIDATION_VENDOR_PICKUP','INBOUND_FBA_PCP_FEDEX_GROUND','MAGAZINE_SUBSCRIPTION','PICKUP','-1')\n",
    "      AND upper(warehouse_id) NOT IN ('PTOP')\n",
    "    )\n",
    "\n",
    "\n",
    " SELECT ship_week\n",
    "    ,zipcode\n",
    "    ,count(OTM_OBCUST_PKG_REC_ID) as pkgs\n",
    "    FROM dosp\n",
    "    INNER JOIN trans_dims_ddl.warehouses w\n",
    "      ON dosp.warehouse_id = w.warehouse_id\n",
    "      AND w.legal_entity_id = 101\n",
    "      AND w.is_sortcenter = 'N'                                           \n",
    "      AND w.is_prime_now = 'N'                                            \n",
    "      AND w.is_fresh = 'N'\n",
    "    WHERE dosp.marketplace_id = 1 \n",
    "      AND ship_week < trunc(dateadd('day', -1, date_trunc('week', dateadd('day', 1, GETDATE()))))\n",
    "      AND ship_week >= trunc(dateadd('day', -1, date_trunc('week',dateadd('day', 1, dateadd('week',-212, GETDATE())))))\n",
    "      AND zipcode IN ('37217', '37920')\n",
    "    GROUP BY 1,\n",
    "             2\n",
    "    ORDER BY 1;\n",
    "    \n",
    "    \"\"\"\n",
    "q=pd.read_sql (sql, con=con, parse_dates=['ship_week'], index_col='ship_week')\n",
    "q.head()\n"
   ]
  },
  {
   "cell_type": "code",
   "execution_count": 6,
   "id": "29eddea8-5252-4782-9e9b-6beb3bd5b139",
   "metadata": {},
   "outputs": [
    {
     "data": {
      "image/png": "[encoded data removed]",
      "text/plain": [
       "<Figure size 432x288 with 1 Axes>"
      ]
     },
     "metadata": {
      "needs_background": "light"
     },
     "output_type": "display_data"
    },
    {
     "data": {
      "image/png": "[encoded data removed]",
      "text/plain": [
       "<Figure size 432x288 with 1 Axes>"
      ]
     },
     "metadata": {
      "needs_background": "light"
     },
     "output_type": "display_data"
    }
   ],
   "source": [
    "#q = pd.DataFrame( 'zipcode', 'ship_week')\n",
    "\n",
    "grp = q.groupby('zipcode')\n",
    "for key in grp.groups.keys():\n",
    "    grp.get_group(key).plot(title=key)"
   ]
  },
  {
   "cell_type": "code",
   "execution_count": 20,
   "id": "2dd673c7-4dcf-4c04-a3ba-bf62ea6c95be",
   "metadata": {},
   "outputs": [],
   "source": [
    "\n",
    "\n",
    "def plot_q(df, x, y, title=\"\", xlabel='ship_week', ylabel='pkgs', dpi=100):\n",
    "    q.groupby('zipcode')['pkgs'].plot(legend=True)\n",
    "    plt.figure(figsize=(16,5), dpi=dpi)\n",
    "    plt.plot(x, y, color='tab:red')\n",
    "    plt.gca().set(title=title, xlabel=xlabel, ylabel=ylabel)\n",
    "    plt.show()\n",
    "    \n",
    "#plot_q(q, x=q.index, y=q.pkgs, title='Yearly')    \n"
   ]
  },
  {
   "cell_type": "code",
   "execution_count": 7,
   "id": "60bad4b3-6965-45b0-beb3-a6f34b9ac87f",
   "metadata": {},
   "outputs": [
    {
     "data": {
      "text/plain": [
       "zipcode\n",
       "37217    AxesSubplot(0.125,0.125;0.775x0.755)\n",
       "37920    AxesSubplot(0.125,0.125;0.775x0.755)\n",
       "Name: pkgs, dtype: object"
      ]
     },
     "execution_count": 7,
     "metadata": {},
     "output_type": "execute_result"
    },
    {
     "data": {
      "image/png": "[encoded data removed]",
      "text/plain": [
       "<Figure size 432x288 with 1 Axes>"
      ]
     },
     "metadata": {
      "needs_background": "light"
     },
     "output_type": "display_data"
    }
   ],
   "source": [
    "#q.set_index('ship_week', inplace=True)\n",
    "q.groupby('zipcode')['pkgs'].plot(legend=True)"
   ]
  },
  {
   "cell_type": "code",
   "execution_count": 8,
   "id": "8cde90ed-2193-46d1-a261-2d8502501b7e",
   "metadata": {},
   "outputs": [
    {
     "data": {
      "text/html": [
       "<div>\n",
       "<style scoped>\n",
       "    .dataframe tbody tr th:only-of-type {\n",
       "        vertical-align: middle;\n",
       "    }\n",
       "\n",
       "    .dataframe tbody tr th {\n",
       "        vertical-align: top;\n",
       "    }\n",
       "\n",
       "    .dataframe thead th {\n",
       "        text-align: right;\n",
       "    }\n",
       "</style>\n",
       "<table border=\"1\" class=\"dataframe\">\n",
       "  <thead>\n",
       "    <tr style=\"text-align: right;\">\n",
       "      <th></th>\n",
       "      <th>ship_week</th>\n",
       "      <th>zipcode</th>\n",
       "      <th>pkgs</th>\n",
       "    </tr>\n",
       "  </thead>\n",
       "  <tbody>\n",
       "    <tr>\n",
       "      <th>0</th>\n",
       "      <td>2017-05-14</td>\n",
       "      <td>37217</td>\n",
       "      <td>3217</td>\n",
       "    </tr>\n",
       "    <tr>\n",
       "      <th>1</th>\n",
       "      <td>2017-05-14</td>\n",
       "      <td>37920</td>\n",
       "      <td>4184</td>\n",
       "    </tr>\n",
       "    <tr>\n",
       "      <th>2</th>\n",
       "      <td>2017-05-21</td>\n",
       "      <td>37217</td>\n",
       "      <td>3135</td>\n",
       "    </tr>\n",
       "    <tr>\n",
       "      <th>3</th>\n",
       "      <td>2017-05-21</td>\n",
       "      <td>37920</td>\n",
       "      <td>4196</td>\n",
       "    </tr>\n",
       "    <tr>\n",
       "      <th>4</th>\n",
       "      <td>2017-05-28</td>\n",
       "      <td>37217</td>\n",
       "      <td>3039</td>\n",
       "    </tr>\n",
       "    <tr>\n",
       "      <th>...</th>\n",
       "      <td>...</td>\n",
       "      <td>...</td>\n",
       "      <td>...</td>\n",
       "    </tr>\n",
       "    <tr>\n",
       "      <th>419</th>\n",
       "      <td>2021-05-16</td>\n",
       "      <td>37217</td>\n",
       "      <td>9917</td>\n",
       "    </tr>\n",
       "    <tr>\n",
       "      <th>420</th>\n",
       "      <td>2021-05-23</td>\n",
       "      <td>37920</td>\n",
       "      <td>13666</td>\n",
       "    </tr>\n",
       "    <tr>\n",
       "      <th>421</th>\n",
       "      <td>2021-05-23</td>\n",
       "      <td>37217</td>\n",
       "      <td>9877</td>\n",
       "    </tr>\n",
       "    <tr>\n",
       "      <th>422</th>\n",
       "      <td>2021-05-30</td>\n",
       "      <td>37217</td>\n",
       "      <td>10281</td>\n",
       "    </tr>\n",
       "    <tr>\n",
       "      <th>423</th>\n",
       "      <td>2021-05-30</td>\n",
       "      <td>37920</td>\n",
       "      <td>13067</td>\n",
       "    </tr>\n",
       "  </tbody>\n",
       "</table>\n",
       "<p>424 rows × 3 columns</p>\n",
       "</div>"
      ],
      "text/plain": [
       "     ship_week zipcode   pkgs\n",
       "0   2017-05-14   37217   3217\n",
       "1   2017-05-14   37920   4184\n",
       "2   2017-05-21   37217   3135\n",
       "3   2017-05-21   37920   4196\n",
       "4   2017-05-28   37217   3039\n",
       "..         ...     ...    ...\n",
       "419 2021-05-16   37217   9917\n",
       "420 2021-05-23   37920  13666\n",
       "421 2021-05-23   37217   9877\n",
       "422 2021-05-30   37217  10281\n",
       "423 2021-05-30   37920  13067\n",
       "\n",
       "[424 rows x 3 columns]"
      ]
     },
     "execution_count": 8,
     "metadata": {},
     "output_type": "execute_result"
    }
   ],
   "source": [
    "q.reset_index()"
   ]
  },
  {
   "cell_type": "markdown",
   "id": "a6dadf3f-86ab-4fb5-b8b4-aee60147102a",
   "metadata": {},
   "source": [
    "## Creating Subplots of differents zipcodes (4 CA FSAs)"
   ]
  },
  {
   "cell_type": "markdown",
   "id": "b1f5bfdb-fbb8-4915-91b6-dbf590e9fada",
   "metadata": {},
   "source": [
    "## Canada data with all the FSAs"
   ]
  },
  {
   "cell_type": "code",
   "execution_count": 5,
   "id": "2bf76a1b-e1b9-496d-bf58-320520b871cb",
   "metadata": {},
   "outputs": [],
   "source": [
    "#subquery added\n",
    "\n",
    "sql = \"\"\"\n",
    "\n",
    "WITH dosp AS (SELECT trunc(dateadd('day', -1, date_trunc('week', dateadd('day', 1, ship_day)))) AS ship_week\n",
    "    ,SUBSTRING(shipping_address_postal_code,1,3) AS zipcode\n",
    "    ,OTM_OBCUST_PKG_REC_ID\n",
    "    ,warehouse_id\n",
    "    ,CASE \n",
    "      WHEN customer_ship_option like '%%vendor%%' THEN 1000  /* vendor return packages: only captured for calculating UPS total packages */ \n",
    "      WHEN marketplace_id in (1,157860,926620) then 1  /* AFN packages */\n",
    "      WHEN marketplace_id in (1034080,188630,1065810,1119740,190640) then 100  /* Zappos packages */\n",
    "      WHEN marketplace_id IN (7) THEN 7 /*CA packages*/\n",
    "      ELSE 999 /* Other Affiliates */\n",
    "    END AS marketplace_id\n",
    "    FROM booker.d_outbound_shipment_packages_na\n",
    "    WHERE region_id = 1\n",
    "      AND legal_entity_id = 115\n",
    "      AND customer_ship_option is not null\n",
    "      AND upper(ship_method) NOT IN ('UNKNOWN', 'MERCHANT', 'CLEANUP', 'LIQUIDATION_VENDOR_PICKUP','INBOUND_FBA_PCP_FEDEX_GROUND','MAGAZINE_SUBSCRIPTION','PICKUP','-1')\n",
    "      AND upper(warehouse_id) NOT IN ('PTOP')\n",
    "    )\n",
    "\n",
    "\n",
    " SELECT ship_week\n",
    "    ,zipcode\n",
    "    ,count(OTM_OBCUST_PKG_REC_ID) as pkgs\n",
    "    FROM dosp\n",
    "    INNER JOIN trans_dims_ddl.warehouses w\n",
    "      ON dosp.warehouse_id = w.warehouse_id\n",
    "      AND w.legal_entity_id = 115\n",
    "      AND w.is_sortcenter = 'N'                                           \n",
    "      AND w.is_prime_now = 'N'                                            \n",
    "      AND w.is_fresh = 'N'\n",
    "    WHERE dosp.marketplace_id = 7\n",
    "      AND ship_week < trunc(dateadd('day', -1, date_trunc('week', dateadd('day', 1, GETDATE()))))\n",
    "      AND ship_week >= trunc(dateadd('day', -1, date_trunc('week',dateadd('day', 1, dateadd('week',-212, GETDATE())))))\n",
    "      AND zipcode IN (select \"left\"(destination_postal_code,3) as fsa\n",
    "    from perfectmile.d_perfectmile_pkg_attributes_v2_na\n",
    "    where marketplace_id = 7\n",
    "    and ship_date >= to_date('20200101','YYYYMMDD')\n",
    "    and not(left(fsa,1) ~ '^[0-9]')\n",
    "    group by 1\n",
    "    having count(*) > 1000)\n",
    "    GROUP BY 1,\n",
    "             2\n",
    "    ORDER BY 1;\n",
    "    \n",
    "    \"\"\"\n",
    "    "
   ]
  },
  {
   "cell_type": "code",
   "execution_count": 6,
   "id": "70232a45-16e5-40fa-bec3-4ea261652eb4",
   "metadata": {},
   "outputs": [
    {
     "name": "stdout",
     "output_type": "stream",
     "text": [
      "           zipcode  pkgs\n",
      "ship_week               \n",
      "2017-05-21     H2P   399\n",
      "2017-05-21     N9G   352\n",
      "2017-05-21     P3A   475\n",
      "2017-05-21     P2N   230\n",
      "2017-05-21     K2J  1938\n",
      "...            ...   ...\n",
      "2021-06-06     V1G  2265\n",
      "2021-06-06     L0J  1350\n",
      "2021-06-06     L0C  2348\n",
      "2021-06-06     N8T  2875\n",
      "2021-06-06     G8B  1536\n",
      "\n",
      "[348180 rows x 2 columns]\n"
     ]
    }
   ],
   "source": [
    "m=pd.read_sql (sql, con=con, parse_dates=['ship_week'], index_col='ship_week')\n",
    "print(m)"
   ]
  },
  {
   "cell_type": "code",
   "execution_count": 7,
   "id": "fb417845-f040-4370-b439-789cb87bb72e",
   "metadata": {},
   "outputs": [
    {
     "data": {
      "text/html": [
       "<div>\n",
       "<style scoped>\n",
       "    .dataframe tbody tr th:only-of-type {\n",
       "        vertical-align: middle;\n",
       "    }\n",
       "\n",
       "    .dataframe tbody tr th {\n",
       "        vertical-align: top;\n",
       "    }\n",
       "\n",
       "    .dataframe thead th {\n",
       "        text-align: right;\n",
       "    }\n",
       "</style>\n",
       "<table border=\"1\" class=\"dataframe\">\n",
       "  <thead>\n",
       "    <tr style=\"text-align: right;\">\n",
       "      <th></th>\n",
       "      <th>pkgs</th>\n",
       "    </tr>\n",
       "  </thead>\n",
       "  <tbody>\n",
       "    <tr>\n",
       "      <th>count</th>\n",
       "      <td>348180.000000</td>\n",
       "    </tr>\n",
       "    <tr>\n",
       "      <th>mean</th>\n",
       "      <td>1982.968223</td>\n",
       "    </tr>\n",
       "    <tr>\n",
       "      <th>std</th>\n",
       "      <td>2559.021451</td>\n",
       "    </tr>\n",
       "    <tr>\n",
       "      <th>min</th>\n",
       "      <td>1.000000</td>\n",
       "    </tr>\n",
       "    <tr>\n",
       "      <th>25%</th>\n",
       "      <td>449.000000</td>\n",
       "    </tr>\n",
       "    <tr>\n",
       "      <th>50%</th>\n",
       "      <td>1132.000000</td>\n",
       "    </tr>\n",
       "    <tr>\n",
       "      <th>75%</th>\n",
       "      <td>2516.000000</td>\n",
       "    </tr>\n",
       "    <tr>\n",
       "      <th>max</th>\n",
       "      <td>44060.000000</td>\n",
       "    </tr>\n",
       "  </tbody>\n",
       "</table>\n",
       "</div>"
      ],
      "text/plain": [
       "                pkgs\n",
       "count  348180.000000\n",
       "mean     1982.968223\n",
       "std      2559.021451\n",
       "min         1.000000\n",
       "25%       449.000000\n",
       "50%      1132.000000\n",
       "75%      2516.000000\n",
       "max     44060.000000"
      ]
     },
     "execution_count": 7,
     "metadata": {},
     "output_type": "execute_result"
    }
   ],
   "source": [
    "m.reset_index()\n",
    "m.describe()"
   ]
  },
  {
   "cell_type": "code",
   "execution_count": 8,
   "id": "c0d7c16c-35ba-4221-9ce5-5c6a66a9d264",
   "metadata": {},
   "outputs": [
    {
     "data": {
      "text/html": [
       "<div>\n",
       "<style scoped>\n",
       "    .dataframe tbody tr th:only-of-type {\n",
       "        vertical-align: middle;\n",
       "    }\n",
       "\n",
       "    .dataframe tbody tr th {\n",
       "        vertical-align: top;\n",
       "    }\n",
       "\n",
       "    .dataframe thead th {\n",
       "        text-align: right;\n",
       "    }\n",
       "</style>\n",
       "<table border=\"1\" class=\"dataframe\">\n",
       "  <thead>\n",
       "    <tr style=\"text-align: right;\">\n",
       "      <th></th>\n",
       "      <th></th>\n",
       "      <th>pkgs</th>\n",
       "    </tr>\n",
       "    <tr>\n",
       "      <th>ship_week</th>\n",
       "      <th>zipcode</th>\n",
       "      <th></th>\n",
       "    </tr>\n",
       "  </thead>\n",
       "  <tbody>\n",
       "    <tr>\n",
       "      <th rowspan=\"5\" valign=\"top\">2017-05-21</th>\n",
       "      <th>A0A</th>\n",
       "      <td>0.000465</td>\n",
       "    </tr>\n",
       "    <tr>\n",
       "      <th>A0B</th>\n",
       "      <td>0.000208</td>\n",
       "    </tr>\n",
       "    <tr>\n",
       "      <th>A0C</th>\n",
       "      <td>0.000117</td>\n",
       "    </tr>\n",
       "    <tr>\n",
       "      <th>A0E</th>\n",
       "      <td>0.000241</td>\n",
       "    </tr>\n",
       "    <tr>\n",
       "      <th>A0G</th>\n",
       "      <td>0.000460</td>\n",
       "    </tr>\n",
       "    <tr>\n",
       "      <th>...</th>\n",
       "      <th>...</th>\n",
       "      <td>...</td>\n",
       "    </tr>\n",
       "    <tr>\n",
       "      <th rowspan=\"5\" valign=\"top\">2021-06-06</th>\n",
       "      <th>X0G</th>\n",
       "      <td>0.000001</td>\n",
       "    </tr>\n",
       "    <tr>\n",
       "      <th>X1A</th>\n",
       "      <td>0.000544</td>\n",
       "    </tr>\n",
       "    <tr>\n",
       "      <th>Y0A</th>\n",
       "      <td>0.000002</td>\n",
       "    </tr>\n",
       "    <tr>\n",
       "      <th>Y0B</th>\n",
       "      <td>0.000005</td>\n",
       "    </tr>\n",
       "    <tr>\n",
       "      <th>Y1A</th>\n",
       "      <td>0.000609</td>\n",
       "    </tr>\n",
       "  </tbody>\n",
       "</table>\n",
       "<p>348180 rows × 1 columns</p>\n",
       "</div>"
      ],
      "text/plain": [
       "                        pkgs\n",
       "ship_week  zipcode          \n",
       "2017-05-21 A0A      0.000465\n",
       "           A0B      0.000208\n",
       "           A0C      0.000117\n",
       "           A0E      0.000241\n",
       "           A0G      0.000460\n",
       "...                      ...\n",
       "2021-06-06 X0G      0.000001\n",
       "           X1A      0.000544\n",
       "           Y0A      0.000002\n",
       "           Y0B      0.000005\n",
       "           Y1A      0.000609\n",
       "\n",
       "[348180 rows x 1 columns]"
      ]
     },
     "execution_count": 8,
     "metadata": {},
     "output_type": "execute_result"
    }
   ],
   "source": [
    "#Percentage short form without 100\n",
    "zip3 = m.groupby(['ship_week','zipcode']).sum()/m.groupby(['ship_week']).sum()\n",
    "zip3"
   ]
  },
  {
   "cell_type": "code",
   "execution_count": 78,
   "id": "82860f84-03a8-4e5d-b307-248e70554a43",
   "metadata": {},
   "outputs": [
    {
     "ename": "NameError",
     "evalue": "name 'm' is not defined",
     "output_type": "error",
     "traceback": [
      "\u001b[0;31m---------------------------------------------------------------------------\u001b[0m",
      "\u001b[0;31mNameError\u001b[0m                                 Traceback (most recent call last)",
      "\u001b[0;32m<ipython-input-78-8253b7f679b4>\u001b[0m in \u001b[0;36m<module>\u001b[0;34m\u001b[0m\n\u001b[1;32m      1\u001b[0m \u001b[0;31m#avg of number of packages/postal codes\u001b[0m\u001b[0;34m\u001b[0m\u001b[0;34m\u001b[0m\u001b[0;34m\u001b[0m\u001b[0m\n\u001b[0;32m----> 2\u001b[0;31m \u001b[0mdf\u001b[0m\u001b[0;34m=\u001b[0m \u001b[0mm\u001b[0m\u001b[0;34m.\u001b[0m\u001b[0mgroupby\u001b[0m\u001b[0;34m(\u001b[0m\u001b[0;34m[\u001b[0m\u001b[0;34m'zipcode'\u001b[0m\u001b[0;34m]\u001b[0m\u001b[0;34m,\u001b[0m \u001b[0msort\u001b[0m\u001b[0;34m=\u001b[0m\u001b[0;32mFalse\u001b[0m\u001b[0;34m)\u001b[0m\u001b[0;34m.\u001b[0m\u001b[0mmean\u001b[0m\u001b[0;34m(\u001b[0m\u001b[0;34m)\u001b[0m\u001b[0;34m\u001b[0m\u001b[0;34m\u001b[0m\u001b[0m\n\u001b[0m\u001b[1;32m      3\u001b[0m \u001b[0mdf\u001b[0m\u001b[0;34m.\u001b[0m\u001b[0mhead\u001b[0m\u001b[0;34m(\u001b[0m\u001b[0;34m)\u001b[0m\u001b[0;34m\u001b[0m\u001b[0;34m\u001b[0m\u001b[0m\n",
      "\u001b[0;31mNameError\u001b[0m: name 'm' is not defined"
     ]
    }
   ],
   "source": [
    "#avg of number of packages/postal codes \n",
    "df= m.groupby(['zipcode'], sort=False).mean()\n",
    "df.head()"
   ]
  },
  {
   "cell_type": "code",
   "execution_count": 10,
   "id": "6fcac435-0f07-4cbc-ae21-d92228d678ed",
   "metadata": {},
   "outputs": [
    {
     "data": {
      "text/html": [
       "<div>\n",
       "<style scoped>\n",
       "    .dataframe tbody tr th:only-of-type {\n",
       "        vertical-align: middle;\n",
       "    }\n",
       "\n",
       "    .dataframe tbody tr th {\n",
       "        vertical-align: top;\n",
       "    }\n",
       "\n",
       "    .dataframe thead th {\n",
       "        text-align: right;\n",
       "    }\n",
       "</style>\n",
       "<table border=\"1\" class=\"dataframe\">\n",
       "  <thead>\n",
       "    <tr style=\"text-align: right;\">\n",
       "      <th></th>\n",
       "      <th>pkgs</th>\n",
       "    </tr>\n",
       "    <tr>\n",
       "      <th>zipcode</th>\n",
       "      <th></th>\n",
       "    </tr>\n",
       "  </thead>\n",
       "  <tbody>\n",
       "    <tr>\n",
       "      <th>T0V</th>\n",
       "      <td>3.989247</td>\n",
       "    </tr>\n",
       "    <tr>\n",
       "      <th>X0G</th>\n",
       "      <td>4.611940</td>\n",
       "    </tr>\n",
       "  </tbody>\n",
       "</table>\n",
       "</div>"
      ],
      "text/plain": [
       "             pkgs\n",
       "zipcode          \n",
       "T0V      3.989247\n",
       "X0G      4.611940"
      ]
     },
     "execution_count": 10,
     "metadata": {},
     "output_type": "execute_result"
    }
   ],
   "source": [
    "#postalcodes that have < 7 shippment/week on the average\n",
    "df[df['pkgs'] < 7]"
   ]
  },
  {
   "cell_type": "code",
   "execution_count": 11,
   "id": "63736bf4-cd03-4fa3-bfff-4e17965f3cc5",
   "metadata": {},
   "outputs": [
    {
     "data": {
      "text/plain": [
       "zipcode\n",
       "H2P      (659.479, 1500.189]\n",
       "N9G      (1500.189, 2745.17]\n",
       "P3A      (1500.189, 2745.17]\n",
       "P2N      (659.479, 1500.189]\n",
       "K2J    (9261.351, 15915.458]\n",
       "               ...          \n",
       "R5N       (119.111, 659.479]\n",
       "R5L       (119.111, 659.479]\n",
       "R5T        (32.426, 119.111]\n",
       "R5R       (119.111, 659.479]\n",
       "R5P        (32.426, 119.111]\n",
       "Name: pkgs, Length: 1651, dtype: category\n",
       "Categories (8, interval[float64]): [(3.988, 32.426] < (32.426, 119.111] < (119.111, 659.479] < (659.479, 1500.189] < (1500.189, 2745.17] < (2745.17, 5290.479] < (5290.479, 9261.351] < (9261.351, 15915.458]]"
      ]
     },
     "execution_count": 11,
     "metadata": {},
     "output_type": "execute_result"
    }
   ],
   "source": [
    "#zipcodes placed in percentiles \n",
    "df1 = pd.cut(df.pkgs, np.percentile(df.pkgs, [0, 1, 5, 25, 50, 75, 95, 99, 100]),\n",
    "                  include_lowest=True)\n",
    "df1"
   ]
  },
  {
   "cell_type": "code",
   "execution_count": 12,
   "id": "a3032a72-6460-4dc0-86bc-983320d46093",
   "metadata": {},
   "outputs": [
    {
     "data": {
      "text/plain": [
       "zipcode\n",
       "H2P     50\n",
       "N9G     75\n",
       "P3A     75\n",
       "P2N     50\n",
       "K2J    100\n",
       "      ... \n",
       "R5N     25\n",
       "R5L     25\n",
       "R5T      5\n",
       "R5R     25\n",
       "R5P      5\n",
       "Name: pkgs, Length: 1651, dtype: category\n",
       "Categories (8, int64): [1 < 5 < 25 < 50 < 75 < 95 < 99 < 100]"
      ]
     },
     "execution_count": 12,
     "metadata": {},
     "output_type": "execute_result"
    }
   ],
   "source": [
    "df2 = df1.cat.rename_categories([1, 5, 25, 50, 75, 95, 99, 100])\n",
    "df2"
   ]
  },
  {
   "cell_type": "code",
   "execution_count": 37,
   "id": "3c9c444e-41ef-4895-9a84-d202d517c20d",
   "metadata": {},
   "outputs": [],
   "source": [
    "#df4 = df2.groupby('zipcode').nunique()  #find out what to do here "
   ]
  },
  {
   "cell_type": "code",
   "execution_count": 13,
   "id": "a362a673-db06-4cf9-8377-2d7cea33ec59",
   "metadata": {},
   "outputs": [
    {
     "data": {
      "text/plain": [
       "zipcode\n",
       "H4Y      1\n",
       "B1J      5\n",
       "S6X     25\n",
       "H7Y     50\n",
       "H1X     75\n",
       "N0R     95\n",
       "V4N     99\n",
       "M5V    100\n",
       "Name: pkgs, dtype: category\n",
       "Categories (8, int64): [1 < 5 < 25 < 50 < 75 < 95 < 99 < 100]"
      ]
     },
     "execution_count": 13,
     "metadata": {},
     "output_type": "execute_result"
    }
   ],
   "source": [
    "df3 = df2.groupby(df2).sample(n=1, random_state=1)\n",
    "df3"
   ]
  },
  {
   "cell_type": "code",
   "execution_count": 5,
   "id": "8b5e50b3-7a85-4a76-a752-3b3c09879a03",
   "metadata": {},
   "outputs": [],
   "source": [
    "# pulled data for the eight postalcodes from each percentile \n",
    "\n",
    "sql= \"\"\"\n",
    "\n",
    "WITH dosp AS (SELECT trunc(dateadd('day', -1, date_trunc('week', dateadd('day', 1, ship_day)))) AS ship_week\n",
    "    ,SUBSTRING(shipping_address_postal_code,1,3) AS zipcode\n",
    "    ,OTM_OBCUST_PKG_REC_ID\n",
    "    ,warehouse_id\n",
    "    ,CASE \n",
    "      WHEN customer_ship_option like '%%vendor%%' THEN 1000  /* vendor return packages: only captured for calculating UPS total packages */ \n",
    "      WHEN marketplace_id in (1,157860,926620) then 1  /* AFN packages */\n",
    "      WHEN marketplace_id in (1034080,188630,1065810,1119740,190640) then 100  /* Zappos packages */\n",
    "      WHEN marketplace_id IN (7) THEN 7 /*CA packages*/\n",
    "      ELSE 999 /* Other Affiliates */\n",
    "    END AS marketplace_id\n",
    "    FROM booker.d_outbound_shipment_packages_na\n",
    "    WHERE region_id = 1\n",
    "      AND legal_entity_id = 115\n",
    "      AND customer_ship_option is not null\n",
    "      AND upper(ship_method) NOT IN ('UNKNOWN', 'MERCHANT', 'CLEANUP', 'LIQUIDATION_VENDOR_PICKUP','INBOUND_FBA_PCP_FEDEX_GROUND','MAGAZINE_SUBSCRIPTION','PICKUP','-1')\n",
    "      AND upper(warehouse_id) NOT IN ('PTOP')\n",
    "    )\n",
    "\n",
    "\n",
    " SELECT ship_week\n",
    "    ,zipcode\n",
    "    ,count(OTM_OBCUST_PKG_REC_ID) as pkgs\n",
    "    FROM dosp\n",
    "    INNER JOIN trans_dims_ddl.warehouses w\n",
    "      ON dosp.warehouse_id = w.warehouse_id\n",
    "      AND w.legal_entity_id = 115\n",
    "      AND w.is_sortcenter = 'N'                                           \n",
    "      AND w.is_prime_now = 'N'                                            \n",
    "      AND w.is_fresh = 'N'\n",
    "    WHERE dosp.marketplace_id = 7\n",
    "      AND ship_week < trunc(dateadd('day', -1, date_trunc('week', dateadd('day', 1, GETDATE()))))\n",
    "      AND ship_week >= trunc(dateadd('day', -1, date_trunc('week',dateadd('day', 1, dateadd('week',-212, GETDATE())))))\n",
    "      AND zipcode IN ('M7A','B0L','B0R','G2K', 'V6V', 'M4S', 'J0K', 'V3S')\n",
    "    GROUP BY 1,\n",
    "             2\n",
    "    ORDER BY 1;\n",
    "    \n",
    "    \"\"\"\n",
    "    "
   ]
  },
  {
   "cell_type": "code",
   "execution_count": 6,
   "id": "599726b0-e6a3-4089-8e1e-2ef559283218",
   "metadata": {},
   "outputs": [
    {
     "data": {
      "text/html": [
       "<div>\n",
       "<style scoped>\n",
       "    .dataframe tbody tr th:only-of-type {\n",
       "        vertical-align: middle;\n",
       "    }\n",
       "\n",
       "    .dataframe tbody tr th {\n",
       "        vertical-align: top;\n",
       "    }\n",
       "\n",
       "    .dataframe thead th {\n",
       "        text-align: right;\n",
       "    }\n",
       "</style>\n",
       "<table border=\"1\" class=\"dataframe\">\n",
       "  <thead>\n",
       "    <tr style=\"text-align: right;\">\n",
       "      <th></th>\n",
       "      <th>zipcode</th>\n",
       "      <th>pkgs</th>\n",
       "    </tr>\n",
       "    <tr>\n",
       "      <th>ship_week</th>\n",
       "      <th></th>\n",
       "      <th></th>\n",
       "    </tr>\n",
       "  </thead>\n",
       "  <tbody>\n",
       "    <tr>\n",
       "      <th>2017-05-28</th>\n",
       "      <td>B0L</td>\n",
       "      <td>26</td>\n",
       "    </tr>\n",
       "    <tr>\n",
       "      <th>2017-05-28</th>\n",
       "      <td>B0R</td>\n",
       "      <td>69</td>\n",
       "    </tr>\n",
       "    <tr>\n",
       "      <th>2017-05-28</th>\n",
       "      <td>M4S</td>\n",
       "      <td>1546</td>\n",
       "    </tr>\n",
       "    <tr>\n",
       "      <th>2017-05-28</th>\n",
       "      <td>V6V</td>\n",
       "      <td>681</td>\n",
       "    </tr>\n",
       "    <tr>\n",
       "      <th>2017-05-28</th>\n",
       "      <td>M7A</td>\n",
       "      <td>22</td>\n",
       "    </tr>\n",
       "  </tbody>\n",
       "</table>\n",
       "</div>"
      ],
      "text/plain": [
       "           zipcode  pkgs\n",
       "ship_week               \n",
       "2017-05-28     B0L    26\n",
       "2017-05-28     B0R    69\n",
       "2017-05-28     M4S  1546\n",
       "2017-05-28     V6V   681\n",
       "2017-05-28     M7A    22"
      ]
     },
     "execution_count": 6,
     "metadata": {},
     "output_type": "execute_result"
    }
   ],
   "source": [
    "new_df=pd.read_sql (sql, con=con, parse_dates=['ship_week'], index_col='ship_week')\n",
    "new_df.head(5)"
   ]
  },
  {
   "cell_type": "code",
   "execution_count": 7,
   "id": "bf8d7e0e-743b-43ea-969c-9f606adfb705",
   "metadata": {},
   "outputs": [
    {
     "data": {
      "text/plain": [
       "(1695, 2)"
      ]
     },
     "execution_count": 7,
     "metadata": {},
     "output_type": "execute_result"
    }
   ],
   "source": [
    "new_df.shape"
   ]
  },
  {
   "cell_type": "code",
   "execution_count": 8,
   "id": "a29027ef-574f-42de-8f1d-c37bdfb216e4",
   "metadata": {},
   "outputs": [
    {
     "data": {
      "text/html": [
       "<div>\n",
       "<style scoped>\n",
       "    .dataframe tbody tr th:only-of-type {\n",
       "        vertical-align: middle;\n",
       "    }\n",
       "\n",
       "    .dataframe tbody tr th {\n",
       "        vertical-align: top;\n",
       "    }\n",
       "\n",
       "    .dataframe thead th {\n",
       "        text-align: right;\n",
       "    }\n",
       "</style>\n",
       "<table border=\"1\" class=\"dataframe\">\n",
       "  <thead>\n",
       "    <tr style=\"text-align: right;\">\n",
       "      <th></th>\n",
       "      <th>zipcode</th>\n",
       "      <th>pkgs</th>\n",
       "    </tr>\n",
       "    <tr>\n",
       "      <th>ship_week</th>\n",
       "      <th></th>\n",
       "      <th></th>\n",
       "    </tr>\n",
       "  </thead>\n",
       "  <tbody>\n",
       "    <tr>\n",
       "      <th>2017-05-28</th>\n",
       "      <td>V3S</td>\n",
       "      <td>2438</td>\n",
       "    </tr>\n",
       "    <tr>\n",
       "      <th>2017-06-04</th>\n",
       "      <td>V3S</td>\n",
       "      <td>2284</td>\n",
       "    </tr>\n",
       "    <tr>\n",
       "      <th>2017-06-11</th>\n",
       "      <td>V3S</td>\n",
       "      <td>2591</td>\n",
       "    </tr>\n",
       "    <tr>\n",
       "      <th>2017-06-18</th>\n",
       "      <td>V3S</td>\n",
       "      <td>2444</td>\n",
       "    </tr>\n",
       "    <tr>\n",
       "      <th>2017-06-25</th>\n",
       "      <td>V3S</td>\n",
       "      <td>2417</td>\n",
       "    </tr>\n",
       "    <tr>\n",
       "      <th>...</th>\n",
       "      <td>...</td>\n",
       "      <td>...</td>\n",
       "    </tr>\n",
       "    <tr>\n",
       "      <th>2021-05-16</th>\n",
       "      <td>V3S</td>\n",
       "      <td>17145</td>\n",
       "    </tr>\n",
       "    <tr>\n",
       "      <th>2021-05-23</th>\n",
       "      <td>V3S</td>\n",
       "      <td>17811</td>\n",
       "    </tr>\n",
       "    <tr>\n",
       "      <th>2021-05-30</th>\n",
       "      <td>V3S</td>\n",
       "      <td>17214</td>\n",
       "    </tr>\n",
       "    <tr>\n",
       "      <th>2021-06-06</th>\n",
       "      <td>V3S</td>\n",
       "      <td>17273</td>\n",
       "    </tr>\n",
       "    <tr>\n",
       "      <th>2021-06-13</th>\n",
       "      <td>V3S</td>\n",
       "      <td>16790</td>\n",
       "    </tr>\n",
       "  </tbody>\n",
       "</table>\n",
       "<p>212 rows × 2 columns</p>\n",
       "</div>"
      ],
      "text/plain": [
       "           zipcode   pkgs\n",
       "ship_week                \n",
       "2017-05-28     V3S   2438\n",
       "2017-06-04     V3S   2284\n",
       "2017-06-11     V3S   2591\n",
       "2017-06-18     V3S   2444\n",
       "2017-06-25     V3S   2417\n",
       "...            ...    ...\n",
       "2021-05-16     V3S  17145\n",
       "2021-05-23     V3S  17811\n",
       "2021-05-30     V3S  17214\n",
       "2021-06-06     V3S  17273\n",
       "2021-06-13     V3S  16790\n",
       "\n",
       "[212 rows x 2 columns]"
      ]
     },
     "execution_count": 8,
     "metadata": {},
     "output_type": "execute_result"
    }
   ],
   "source": [
    "#pulling V3S zipcode for modeling \n",
    "\n",
    "new_zip1 = new_df[new_df.zipcode == 'V3S']\n",
    "new_zip1"
   ]
  },
  {
   "cell_type": "code",
   "execution_count": 9,
   "id": "c403bc34-ea03-48b4-a6c1-558e2ff618bf",
   "metadata": {},
   "outputs": [
    {
     "data": {
      "text/plain": [
       "array([[<AxesSubplot:title={'center':'pkgs'}>]], dtype=object)"
      ]
     },
     "execution_count": 9,
     "metadata": {},
     "output_type": "execute_result"
    },
    {
     "data": {
      "image/png": "[encoded data removed]",
      "text/plain": [
       "<Figure size 432x288 with 1 Axes>"
      ]
     },
     "metadata": {
      "needs_background": "light"
     },
     "output_type": "display_data"
    }
   ],
   "source": [
    "#avg of number of packages/postal codes \n",
    "new_df1= new_df.groupby(['zipcode'], sort=False).mean()\n",
    "new_df1.head(10).hist()"
   ]
  },
  {
   "cell_type": "code",
   "execution_count": 10,
   "id": "a3230d8f-462d-491f-86cd-c97dc4a12601",
   "metadata": {},
   "outputs": [
    {
     "data": {
      "text/html": [
       "<div>\n",
       "<style scoped>\n",
       "    .dataframe tbody tr th:only-of-type {\n",
       "        vertical-align: middle;\n",
       "    }\n",
       "\n",
       "    .dataframe tbody tr th {\n",
       "        vertical-align: top;\n",
       "    }\n",
       "\n",
       "    .dataframe thead th {\n",
       "        text-align: right;\n",
       "    }\n",
       "</style>\n",
       "<table border=\"1\" class=\"dataframe\">\n",
       "  <thead>\n",
       "    <tr style=\"text-align: right;\">\n",
       "      <th></th>\n",
       "      <th>pkgs</th>\n",
       "    </tr>\n",
       "    <tr>\n",
       "      <th>zipcode</th>\n",
       "      <th></th>\n",
       "    </tr>\n",
       "  </thead>\n",
       "  <tbody>\n",
       "    <tr>\n",
       "      <th>B0L</th>\n",
       "      <td>21841</td>\n",
       "    </tr>\n",
       "    <tr>\n",
       "      <th>B0R</th>\n",
       "      <td>68408</td>\n",
       "    </tr>\n",
       "    <tr>\n",
       "      <th>M4S</th>\n",
       "      <td>1119803</td>\n",
       "    </tr>\n",
       "    <tr>\n",
       "      <th>V6V</th>\n",
       "      <td>379320</td>\n",
       "    </tr>\n",
       "    <tr>\n",
       "      <th>M7A</th>\n",
       "      <td>4602</td>\n",
       "    </tr>\n",
       "    <tr>\n",
       "      <th>J0K</th>\n",
       "      <td>1337501</td>\n",
       "    </tr>\n",
       "    <tr>\n",
       "      <th>G2K</th>\n",
       "      <td>163163</td>\n",
       "    </tr>\n",
       "    <tr>\n",
       "      <th>V3S</th>\n",
       "      <td>2091780</td>\n",
       "    </tr>\n",
       "  </tbody>\n",
       "</table>\n",
       "</div>"
      ],
      "text/plain": [
       "            pkgs\n",
       "zipcode         \n",
       "B0L        21841\n",
       "B0R        68408\n",
       "M4S      1119803\n",
       "V6V       379320\n",
       "M7A         4602\n",
       "J0K      1337501\n",
       "G2K       163163\n",
       "V3S      2091780"
      ]
     },
     "execution_count": 10,
     "metadata": {},
     "output_type": "execute_result"
    }
   ],
   "source": [
    "new_df1= new_df.groupby(['zipcode'], sort=False).sum()\n",
    "new_df1"
   ]
  },
  {
   "cell_type": "code",
   "execution_count": 11,
   "id": "4da414bb-59f6-4953-b626-254ef93c4476",
   "metadata": {},
   "outputs": [
    {
     "data": {
      "image/png": "[encoded data removed]",
      "text/plain": [
       "<Figure size 432x288 with 1 Axes>"
      ]
     },
     "metadata": {
      "needs_background": "light"
     },
     "output_type": "display_data"
    },
    {
     "data": {
      "image/png": "[encoded data removed]",
      "text/plain": [
       "<Figure size 432x288 with 1 Axes>"
      ]
     },
     "metadata": {
      "needs_background": "light"
     },
     "output_type": "display_data"
    },
    {
     "data": {
      "image/png": "[encoded data removed]",
      "text/plain": [
       "<Figure size 432x288 with 1 Axes>"
      ]
     },
     "metadata": {
      "needs_background": "light"
     },
     "output_type": "display_data"
    },
    {
     "data": {
      "image/png": "[encoded data removed]",
      "text/plain": [
       "<Figure size 432x288 with 1 Axes>"
      ]
     },
     "metadata": {
      "needs_background": "light"
     },
     "output_type": "display_data"
    },
    {
     "data": {
      "image/png": "[encoded data removed]",
      "text/plain": [
       "<Figure size 432x288 with 1 Axes>"
      ]
     },
     "metadata": {
      "needs_background": "light"
     },
     "output_type": "display_data"
    },
    {
     "data": {
      "image/png": "[encoded data removed]",
      "text/plain": [
       "<Figure size 432x288 with 1 Axes>"
      ]
     },
     "metadata": {
      "needs_background": "light"
     },
     "output_type": "display_data"
    },
    {
     "data": {
      "image/png": "[encoded data removed]",
      "text/plain": [
       "<Figure size 432x288 with 1 Axes>"
      ]
     },
     "metadata": {
      "needs_background": "light"
     },
     "output_type": "display_data"
    },
    {
     "data": {
      "image/png": "[encoded data removed]",
      "text/plain": [
       "<Figure size 432x288 with 1 Axes>"
      ]
     },
     "metadata": {
      "needs_background": "light"
     },
     "output_type": "display_data"
    }
   ],
   "source": [
    "grp1 = new_df.groupby('zipcode')\n",
    "for key in grp1.groups.keys():\n",
    "    grp1.get_group(key).plot(title=key)"
   ]
  },
  {
   "cell_type": "code",
   "execution_count": 69,
   "id": "95046b7d-3c1e-4a10-993d-8add580b3841",
   "metadata": {},
   "outputs": [
    {
     "data": {
      "text/plain": [
       "zipcode\n",
       "B0L    AxesSubplot(0.125,0.125;0.775x0.755)\n",
       "B0R    AxesSubplot(0.125,0.125;0.775x0.755)\n",
       "G2K    AxesSubplot(0.125,0.125;0.775x0.755)\n",
       "J0K    AxesSubplot(0.125,0.125;0.775x0.755)\n",
       "M4S    AxesSubplot(0.125,0.125;0.775x0.755)\n",
       "M7A    AxesSubplot(0.125,0.125;0.775x0.755)\n",
       "V3S    AxesSubplot(0.125,0.125;0.775x0.755)\n",
       "V6V    AxesSubplot(0.125,0.125;0.775x0.755)\n",
       "Name: pkgs, dtype: object"
      ]
     },
     "execution_count": 69,
     "metadata": {},
     "output_type": "execute_result"
    },
    {
     "data": {
      "image/png": "[encoded data removed]",
      "text/plain": [
       "<Figure size 432x288 with 1 Axes>"
      ]
     },
     "metadata": {
      "needs_background": "light"
     },
     "output_type": "display_data"
    }
   ],
   "source": [
    "def plot_new_df(new_df, x, y, title=\"\", xlabel='ship_week', ylabel='pkgs', dpi=100):\n",
    "    plt.figure(figsize=(20,10), dpi=dpi)\n",
    "new_df.groupby('zipcode')['pkgs'].plot(legend=True)"
   ]
  },
  {
   "cell_type": "code",
   "execution_count": 12,
   "id": "e4c81b40-edc0-4cfe-920d-3554ede5bb51",
   "metadata": {},
   "outputs": [
    {
     "data": {
      "text/html": [
       "<div>\n",
       "<style scoped>\n",
       "    .dataframe tbody tr th:only-of-type {\n",
       "        vertical-align: middle;\n",
       "    }\n",
       "\n",
       "    .dataframe tbody tr th {\n",
       "        vertical-align: top;\n",
       "    }\n",
       "\n",
       "    .dataframe thead th {\n",
       "        text-align: right;\n",
       "    }\n",
       "</style>\n",
       "<table border=\"1\" class=\"dataframe\">\n",
       "  <thead>\n",
       "    <tr style=\"text-align: right;\">\n",
       "      <th></th>\n",
       "      <th></th>\n",
       "      <th>pkgs</th>\n",
       "    </tr>\n",
       "    <tr>\n",
       "      <th>ship_week</th>\n",
       "      <th>zipcode</th>\n",
       "      <th></th>\n",
       "    </tr>\n",
       "  </thead>\n",
       "  <tbody>\n",
       "    <tr>\n",
       "      <th rowspan=\"5\" valign=\"top\">2017-05-28</th>\n",
       "      <th>B0L</th>\n",
       "      <td>0.426509</td>\n",
       "    </tr>\n",
       "    <tr>\n",
       "      <th>B0R</th>\n",
       "      <td>1.131890</td>\n",
       "    </tr>\n",
       "    <tr>\n",
       "      <th>G2K</th>\n",
       "      <td>3.789370</td>\n",
       "    </tr>\n",
       "    <tr>\n",
       "      <th>J0K</th>\n",
       "      <td>17.765748</td>\n",
       "    </tr>\n",
       "    <tr>\n",
       "      <th>M4S</th>\n",
       "      <td>25.360892</td>\n",
       "    </tr>\n",
       "    <tr>\n",
       "      <th>...</th>\n",
       "      <th>...</th>\n",
       "      <td>...</td>\n",
       "    </tr>\n",
       "    <tr>\n",
       "      <th rowspan=\"5\" valign=\"top\">2021-06-13</th>\n",
       "      <th>J0K</th>\n",
       "      <td>32.139549</td>\n",
       "    </tr>\n",
       "    <tr>\n",
       "      <th>M4S</th>\n",
       "      <td>19.648869</td>\n",
       "    </tr>\n",
       "    <tr>\n",
       "      <th>M7A</th>\n",
       "      <td>0.018076</td>\n",
       "    </tr>\n",
       "    <tr>\n",
       "      <th>V3S</th>\n",
       "      <td>37.937501</td>\n",
       "    </tr>\n",
       "    <tr>\n",
       "      <th>V6V</th>\n",
       "      <td>5.558443</td>\n",
       "    </tr>\n",
       "  </tbody>\n",
       "</table>\n",
       "<p>1695 rows × 1 columns</p>\n",
       "</div>"
      ],
      "text/plain": [
       "                         pkgs\n",
       "ship_week  zipcode           \n",
       "2017-05-28 B0L       0.426509\n",
       "           B0R       1.131890\n",
       "           G2K       3.789370\n",
       "           J0K      17.765748\n",
       "           M4S      25.360892\n",
       "...                       ...\n",
       "2021-06-13 J0K      32.139549\n",
       "           M4S      19.648869\n",
       "           M7A       0.018076\n",
       "           V3S      37.937501\n",
       "           V6V       5.558443\n",
       "\n",
       "[1695 rows x 1 columns]"
      ]
     },
     "execution_count": 12,
     "metadata": {},
     "output_type": "execute_result"
    }
   ],
   "source": [
    "new_df2 = new_df.groupby(['ship_week','zipcode']).sum()/new_df.groupby(['ship_week']).sum()*100\n",
    "new_df2"
   ]
  },
  {
   "cell_type": "code",
   "execution_count": 22,
   "id": "00cf6866-e58a-46ac-803e-58c3bf8f0a7e",
   "metadata": {},
   "outputs": [],
   "source": [
    "#Updated and Modified sql codes for Canada data\n",
    "\n",
    "\n",
    "sql = \"\"\"\n",
    "\n",
    "WITH pka_dosp AS (SELECT trunc(dateadd('day', -1, date_trunc('week', dateadd('day', 1, ship_day)))) AS ship_week\n",
    "    ,SUBSTRING(shipping_address_postal_code,1,3) AS zipcode\n",
    "    ,OTM_OBCUST_PKG_REC_ID\n",
    "    ,warehouse_id\n",
    "    ,CASE \n",
    "      WHEN customer_ship_option like '%%vendor%%' THEN 1000  /* vendor return packages: only captured for calculating UPS total packages */ \n",
    "      WHEN marketplace_id in (1,157860,926620) then 1  /* AFN packages */\n",
    "      WHEN marketplace_id in (1034080,188630,1065810,1119740,190640) then 100  /* Zappos packages */\n",
    "      WHEN marketplace_id IN (7) THEN 7 /*CA packages*/\n",
    "      ELSE 999 /* Other Affiliates */\n",
    "    END AS marketplace_id\n",
    "    FROM booker.d_outbound_shipment_packages_na\n",
    "    WHERE region_id = 1\n",
    "      AND legal_entity_id = 115\n",
    "      AND customer_ship_option is not null\n",
    "      AND upper(ship_method) NOT IN ('UNKNOWN', 'MERCHANT', 'CLEANUP', 'LIQUIDATION_VENDOR_PICKUP','INBOUND_FBA_PCP_FEDEX_GROUND','MAGAZINE_SUBSCRIPTION','PICKUP','-1')\n",
    "      AND upper(warehouse_id) NOT IN ('PTOP')\n",
    "      AND shipping_address_country_code = 'CA'\n",
    "      AND ship_week < '2021-05-02'\n",
    "      AND ship_week >= trunc(dateadd('day', -1, date_trunc('week',dateadd('day', 1, dateadd('week',-212, GETDATE())))))\n",
    "      AND marketplace_id=7\n",
    "    UNION\n",
    "     SELECT trunc(dateadd('day', -1, date_trunc('week', dateadd('day', 1, ship_date)))) AS ship_week\n",
    "    ,SUBSTRING(destination_postal_code,1,3) AS zipcode\n",
    "    ,fulfillment_shipment_id AS OTM_OBCUST_PKG_REC_ID\n",
    "    ,originating_fulfillment_center AS warehouse_id\n",
    "    ,CASE \n",
    "      WHEN customer_ship_option like '%%vendor%%' THEN 1000  /* vendor return packages: only captured for calculating UPS total packages */ \n",
    "      WHEN marketplace_id in (1,157860,926620) then 1  /* AFN packages */\n",
    "      WHEN marketplace_id in (1034080,188630,1065810,1119740,190640) then 100  /* Zappos packages */\n",
    "      WHEN marketplace_id IN (7) THEN 7 /*CA packages*/\n",
    "      ELSE 999 /* Other Affiliates */\n",
    "    END AS marketplace_id\n",
    "    FROM perfectmile_ext.d_perfectmile_pkg_attributes_v2_na\n",
    "    WHERE region_id = 1\n",
    "      AND legal_entity_id = 115\n",
    "      AND customer_ship_option is not null\n",
    "      AND upper(ship_method) NOT IN ('UNKNOWN', 'MERCHANT', 'CLEANUP', 'LIQUIDATION_VENDOR_PICKUP','INBOUND_FBA_PCP_FEDEX_GROUND','MAGAZINE_SUBSCRIPTION','PICKUP','-1')\n",
    "      AND upper(originating_fulfillment_center) NOT IN ('PTOP')\n",
    "      AND destination_country_code = 'CA'\n",
    "      AND ship_week < trunc(dateadd('day', -1, date_trunc('week', dateadd('day', 1, GETDATE()))))\n",
    "      AND ship_week >= '2021-05-02'\n",
    "      AND marketplace_id=7\n",
    "    )\n",
    "\n",
    "\n",
    "SELECT ship_week\n",
    "    ,pka_dosp.zipcode\n",
    "    ,count(OTM_OBCUST_PKG_REC_ID) as pkgs\n",
    "FROM pka_dosp\n",
    "    INNER JOIN trans_dims_ddl.warehouses w\n",
    "    ON pka_dosp.warehouse_id = w.warehouse_id\n",
    "    AND w.legal_entity_id = 115\n",
    "    AND w.is_sortcenter = 'N'                                           \n",
    "    AND w.is_prime_now = 'N'                                            \n",
    "    AND w.is_fresh = 'N'\n",
    "    and zipcode in (select \"left\"(destination_postal_code,3) as fsa\n",
    "from perfectmile.d_perfectmile_pkg_attributes_v2_na\n",
    "where marketplace_id = 7\n",
    "and ship_date >= to_date('20200101','YYYYMMDD')\n",
    "and not(left(fsa,1) ~ '^[0-9]')\n",
    "group by 1\n",
    "having count(*) > 1000)\n",
    "GROUP BY 1,\n",
    "         2\n",
    "ORDER BY 1,2;\n",
    "    \n",
    "    \"\"\"\n"
   ]
  },
  {
   "cell_type": "code",
   "execution_count": 23,
   "id": "c67b9af1-4d9a-4e42-b73c-88927a1d7fff",
   "metadata": {},
   "outputs": [
    {
     "data": {
      "text/html": [
       "<div>\n",
       "<style scoped>\n",
       "    .dataframe tbody tr th:only-of-type {\n",
       "        vertical-align: middle;\n",
       "    }\n",
       "\n",
       "    .dataframe tbody tr th {\n",
       "        vertical-align: top;\n",
       "    }\n",
       "\n",
       "    .dataframe thead th {\n",
       "        text-align: right;\n",
       "    }\n",
       "</style>\n",
       "<table border=\"1\" class=\"dataframe\">\n",
       "  <thead>\n",
       "    <tr style=\"text-align: right;\">\n",
       "      <th></th>\n",
       "      <th>zipcode</th>\n",
       "      <th>pkgs</th>\n",
       "    </tr>\n",
       "    <tr>\n",
       "      <th>ship_week</th>\n",
       "      <th></th>\n",
       "      <th></th>\n",
       "    </tr>\n",
       "  </thead>\n",
       "  <tbody>\n",
       "    <tr>\n",
       "      <th>2017-05-21</th>\n",
       "      <td>A0A</td>\n",
       "      <td>378</td>\n",
       "    </tr>\n",
       "    <tr>\n",
       "      <th>2017-05-21</th>\n",
       "      <td>A0B</td>\n",
       "      <td>169</td>\n",
       "    </tr>\n",
       "    <tr>\n",
       "      <th>2017-05-21</th>\n",
       "      <td>A0C</td>\n",
       "      <td>95</td>\n",
       "    </tr>\n",
       "    <tr>\n",
       "      <th>2017-05-21</th>\n",
       "      <td>A0E</td>\n",
       "      <td>196</td>\n",
       "    </tr>\n",
       "    <tr>\n",
       "      <th>2017-05-21</th>\n",
       "      <td>A0G</td>\n",
       "      <td>374</td>\n",
       "    </tr>\n",
       "    <tr>\n",
       "      <th>...</th>\n",
       "      <td>...</td>\n",
       "      <td>...</td>\n",
       "    </tr>\n",
       "    <tr>\n",
       "      <th>2021-06-06</th>\n",
       "      <td>X0G</td>\n",
       "      <td>6</td>\n",
       "    </tr>\n",
       "    <tr>\n",
       "      <th>2021-06-06</th>\n",
       "      <td>X1A</td>\n",
       "      <td>3255</td>\n",
       "    </tr>\n",
       "    <tr>\n",
       "      <th>2021-06-06</th>\n",
       "      <td>Y0A</td>\n",
       "      <td>12</td>\n",
       "    </tr>\n",
       "    <tr>\n",
       "      <th>2021-06-06</th>\n",
       "      <td>Y0B</td>\n",
       "      <td>30</td>\n",
       "    </tr>\n",
       "    <tr>\n",
       "      <th>2021-06-06</th>\n",
       "      <td>Y1A</td>\n",
       "      <td>3646</td>\n",
       "    </tr>\n",
       "  </tbody>\n",
       "</table>\n",
       "<p>348180 rows × 2 columns</p>\n",
       "</div>"
      ],
      "text/plain": [
       "           zipcode  pkgs\n",
       "ship_week               \n",
       "2017-05-21     A0A   378\n",
       "2017-05-21     A0B   169\n",
       "2017-05-21     A0C    95\n",
       "2017-05-21     A0E   196\n",
       "2017-05-21     A0G   374\n",
       "...            ...   ...\n",
       "2021-06-06     X0G     6\n",
       "2021-06-06     X1A  3255\n",
       "2021-06-06     Y0A    12\n",
       "2021-06-06     Y0B    30\n",
       "2021-06-06     Y1A  3646\n",
       "\n",
       "[348180 rows x 2 columns]"
      ]
     },
     "execution_count": 23,
     "metadata": {},
     "output_type": "execute_result"
    }
   ],
   "source": [
    "mod_df=pd.read_sql (sql, con=con, parse_dates=['ship_week'], index_col='ship_week')\n",
    "mod_df"
   ]
  },
  {
   "cell_type": "code",
   "execution_count": 24,
   "id": "30ac8c97-c33c-465d-b4a0-9a887b8e4e10",
   "metadata": {},
   "outputs": [
    {
     "data": {
      "text/html": [
       "<div>\n",
       "<style scoped>\n",
       "    .dataframe tbody tr th:only-of-type {\n",
       "        vertical-align: middle;\n",
       "    }\n",
       "\n",
       "    .dataframe tbody tr th {\n",
       "        vertical-align: top;\n",
       "    }\n",
       "\n",
       "    .dataframe thead th {\n",
       "        text-align: right;\n",
       "    }\n",
       "</style>\n",
       "<table border=\"1\" class=\"dataframe\">\n",
       "  <thead>\n",
       "    <tr style=\"text-align: right;\">\n",
       "      <th></th>\n",
       "      <th>pkgs</th>\n",
       "    </tr>\n",
       "    <tr>\n",
       "      <th>zipcode</th>\n",
       "      <th></th>\n",
       "    </tr>\n",
       "  </thead>\n",
       "  <tbody>\n",
       "    <tr>\n",
       "      <th>A0A</th>\n",
       "      <td>1380.622642</td>\n",
       "    </tr>\n",
       "    <tr>\n",
       "      <th>A0B</th>\n",
       "      <td>715.787736</td>\n",
       "    </tr>\n",
       "    <tr>\n",
       "      <th>A0C</th>\n",
       "      <td>371.721698</td>\n",
       "    </tr>\n",
       "    <tr>\n",
       "      <th>A0E</th>\n",
       "      <td>715.627358</td>\n",
       "    </tr>\n",
       "    <tr>\n",
       "      <th>A0G</th>\n",
       "      <td>1308.641509</td>\n",
       "    </tr>\n",
       "  </tbody>\n",
       "</table>\n",
       "</div>"
      ],
      "text/plain": [
       "                pkgs\n",
       "zipcode             \n",
       "A0A      1380.622642\n",
       "A0B       715.787736\n",
       "A0C       371.721698\n",
       "A0E       715.627358\n",
       "A0G      1308.641509"
      ]
     },
     "execution_count": 24,
     "metadata": {},
     "output_type": "execute_result"
    }
   ],
   "source": [
    "#avg of number of packages/postal codes \n",
    "mod_df1= mod_df.groupby(['zipcode'], sort=False).mean()\n",
    "mod_df1.head()"
   ]
  },
  {
   "cell_type": "code",
   "execution_count": 25,
   "id": "aa71e615-f22d-49a2-b7be-72ecc6327f28",
   "metadata": {},
   "outputs": [
    {
     "data": {
      "text/html": [
       "<div>\n",
       "<style scoped>\n",
       "    .dataframe tbody tr th:only-of-type {\n",
       "        vertical-align: middle;\n",
       "    }\n",
       "\n",
       "    .dataframe tbody tr th {\n",
       "        vertical-align: top;\n",
       "    }\n",
       "\n",
       "    .dataframe thead th {\n",
       "        text-align: right;\n",
       "    }\n",
       "</style>\n",
       "<table border=\"1\" class=\"dataframe\">\n",
       "  <thead>\n",
       "    <tr style=\"text-align: right;\">\n",
       "      <th></th>\n",
       "      <th>pkgs</th>\n",
       "    </tr>\n",
       "    <tr>\n",
       "      <th>zipcode</th>\n",
       "      <th></th>\n",
       "    </tr>\n",
       "  </thead>\n",
       "  <tbody>\n",
       "    <tr>\n",
       "      <th>T0V</th>\n",
       "      <td>3.989247</td>\n",
       "    </tr>\n",
       "    <tr>\n",
       "      <th>X0G</th>\n",
       "      <td>4.616915</td>\n",
       "    </tr>\n",
       "  </tbody>\n",
       "</table>\n",
       "</div>"
      ],
      "text/plain": [
       "             pkgs\n",
       "zipcode          \n",
       "T0V      3.989247\n",
       "X0G      4.616915"
      ]
     },
     "execution_count": 25,
     "metadata": {},
     "output_type": "execute_result"
    }
   ],
   "source": [
    "#postalcodes that have < 7 shippment/week on the average\n",
    "mod_df1[mod_df1['pkgs'] < 7]"
   ]
  },
  {
   "cell_type": "code",
   "execution_count": 26,
   "id": "40a632e1-702c-43f6-a459-dad9e15943fd",
   "metadata": {},
   "outputs": [
    {
     "data": {
      "text/html": [
       "<div>\n",
       "<style scoped>\n",
       "    .dataframe tbody tr th:only-of-type {\n",
       "        vertical-align: middle;\n",
       "    }\n",
       "\n",
       "    .dataframe tbody tr th {\n",
       "        vertical-align: top;\n",
       "    }\n",
       "\n",
       "    .dataframe thead th {\n",
       "        text-align: right;\n",
       "    }\n",
       "</style>\n",
       "<table border=\"1\" class=\"dataframe\">\n",
       "  <thead>\n",
       "    <tr style=\"text-align: right;\">\n",
       "      <th></th>\n",
       "      <th>zipcode</th>\n",
       "      <th>pkgs_x</th>\n",
       "      <th>pkgs_y</th>\n",
       "    </tr>\n",
       "    <tr>\n",
       "      <th>ship_week</th>\n",
       "      <th></th>\n",
       "      <th></th>\n",
       "      <th></th>\n",
       "    </tr>\n",
       "  </thead>\n",
       "  <tbody>\n",
       "    <tr>\n",
       "      <th>2017-05-21</th>\n",
       "      <td>H2P</td>\n",
       "      <td>399</td>\n",
       "      <td>399</td>\n",
       "    </tr>\n",
       "    <tr>\n",
       "      <th>2017-05-21</th>\n",
       "      <td>N9G</td>\n",
       "      <td>352</td>\n",
       "      <td>352</td>\n",
       "    </tr>\n",
       "    <tr>\n",
       "      <th>2017-05-21</th>\n",
       "      <td>P3A</td>\n",
       "      <td>475</td>\n",
       "      <td>475</td>\n",
       "    </tr>\n",
       "    <tr>\n",
       "      <th>2017-05-21</th>\n",
       "      <td>P2N</td>\n",
       "      <td>230</td>\n",
       "      <td>230</td>\n",
       "    </tr>\n",
       "    <tr>\n",
       "      <th>2017-05-21</th>\n",
       "      <td>K2J</td>\n",
       "      <td>1938</td>\n",
       "      <td>1938</td>\n",
       "    </tr>\n",
       "  </tbody>\n",
       "</table>\n",
       "</div>"
      ],
      "text/plain": [
       "           zipcode  pkgs_x  pkgs_y\n",
       "ship_week                         \n",
       "2017-05-21     H2P     399     399\n",
       "2017-05-21     N9G     352     352\n",
       "2017-05-21     P3A     475     475\n",
       "2017-05-21     P2N     230     230\n",
       "2017-05-21     K2J    1938    1938"
      ]
     },
     "execution_count": 26,
     "metadata": {},
     "output_type": "execute_result"
    }
   ],
   "source": [
    "#merge the old and new dataframes; m and mod_df\n",
    "\n",
    "merge_inner = m.merge (mod_df, left_on=['zipcode', 'ship_week'], right_on =['zipcode', 'ship_week'])\n",
    "                       \n",
    "merge_inner.head(5)"
   ]
  },
  {
   "cell_type": "code",
   "execution_count": 27,
   "id": "f428d9a6-9e8b-43c7-a919-cd6c00c6105e",
   "metadata": {},
   "outputs": [],
   "source": [
    "#take the difference\n",
    "merge_inner['pkgs_diff'] = merge_inner['pkgs_x'] - merge_inner['pkgs_y']\n",
    "\n",
    "\n",
    "\n",
    "merge_inner['pkgs_abs']= merge_inner['pkgs_diff'].abs()"
   ]
  },
  {
   "cell_type": "code",
   "execution_count": 96,
   "id": "2356d121-b1fb-4068-893e-982b8f1066ee",
   "metadata": {},
   "outputs": [
    {
     "data": {
      "text/html": [
       "<div>\n",
       "<style scoped>\n",
       "    .dataframe tbody tr th:only-of-type {\n",
       "        vertical-align: middle;\n",
       "    }\n",
       "\n",
       "    .dataframe tbody tr th {\n",
       "        vertical-align: top;\n",
       "    }\n",
       "\n",
       "    .dataframe thead th {\n",
       "        text-align: right;\n",
       "    }\n",
       "</style>\n",
       "<table border=\"1\" class=\"dataframe\">\n",
       "  <thead>\n",
       "    <tr style=\"text-align: right;\">\n",
       "      <th></th>\n",
       "      <th>zipcode</th>\n",
       "      <th>pkgs_x</th>\n",
       "      <th>pkgs_y</th>\n",
       "      <th>pkgs_diff</th>\n",
       "      <th>pkgs_abs</th>\n",
       "    </tr>\n",
       "    <tr>\n",
       "      <th>ship_week</th>\n",
       "      <th></th>\n",
       "      <th></th>\n",
       "      <th></th>\n",
       "      <th></th>\n",
       "      <th></th>\n",
       "    </tr>\n",
       "  </thead>\n",
       "  <tbody>\n",
       "    <tr>\n",
       "      <th>2017-05-21</th>\n",
       "      <td>K2J</td>\n",
       "      <td>1938</td>\n",
       "      <td>1938</td>\n",
       "      <td>0</td>\n",
       "      <td>0</td>\n",
       "    </tr>\n",
       "    <tr>\n",
       "      <th>2017-05-21</th>\n",
       "      <td>T7E</td>\n",
       "      <td>314</td>\n",
       "      <td>314</td>\n",
       "      <td>0</td>\n",
       "      <td>0</td>\n",
       "    </tr>\n",
       "    <tr>\n",
       "      <th>2017-05-21</th>\n",
       "      <td>V7S</td>\n",
       "      <td>276</td>\n",
       "      <td>276</td>\n",
       "      <td>0</td>\n",
       "      <td>0</td>\n",
       "    </tr>\n",
       "    <tr>\n",
       "      <th>2017-05-21</th>\n",
       "      <td>N9G</td>\n",
       "      <td>352</td>\n",
       "      <td>352</td>\n",
       "      <td>0</td>\n",
       "      <td>0</td>\n",
       "    </tr>\n",
       "    <tr>\n",
       "      <th>2017-05-21</th>\n",
       "      <td>H2P</td>\n",
       "      <td>399</td>\n",
       "      <td>399</td>\n",
       "      <td>0</td>\n",
       "      <td>0</td>\n",
       "    </tr>\n",
       "    <tr>\n",
       "      <th>...</th>\n",
       "      <td>...</td>\n",
       "      <td>...</td>\n",
       "      <td>...</td>\n",
       "      <td>...</td>\n",
       "      <td>...</td>\n",
       "    </tr>\n",
       "    <tr>\n",
       "      <th>2021-06-06</th>\n",
       "      <td>J4G</td>\n",
       "      <td>1322</td>\n",
       "      <td>1322</td>\n",
       "      <td>0</td>\n",
       "      <td>0</td>\n",
       "    </tr>\n",
       "    <tr>\n",
       "      <th>2021-06-06</th>\n",
       "      <td>L0J</td>\n",
       "      <td>1350</td>\n",
       "      <td>1350</td>\n",
       "      <td>0</td>\n",
       "      <td>0</td>\n",
       "    </tr>\n",
       "    <tr>\n",
       "      <th>2021-06-06</th>\n",
       "      <td>V1G</td>\n",
       "      <td>2265</td>\n",
       "      <td>2264</td>\n",
       "      <td>1</td>\n",
       "      <td>1</td>\n",
       "    </tr>\n",
       "    <tr>\n",
       "      <th>2021-06-06</th>\n",
       "      <td>G8B</td>\n",
       "      <td>1536</td>\n",
       "      <td>1536</td>\n",
       "      <td>0</td>\n",
       "      <td>0</td>\n",
       "    </tr>\n",
       "    <tr>\n",
       "      <th>2021-06-06</th>\n",
       "      <td>R2N</td>\n",
       "      <td>4938</td>\n",
       "      <td>4937</td>\n",
       "      <td>1</td>\n",
       "      <td>1</td>\n",
       "    </tr>\n",
       "  </tbody>\n",
       "</table>\n",
       "<p>348180 rows × 5 columns</p>\n",
       "</div>"
      ],
      "text/plain": [
       "           zipcode  pkgs_x  pkgs_y  pkgs_diff  pkgs_abs\n",
       "ship_week                                              \n",
       "2017-05-21     K2J    1938    1938          0         0\n",
       "2017-05-21     T7E     314     314          0         0\n",
       "2017-05-21     V7S     276     276          0         0\n",
       "2017-05-21     N9G     352     352          0         0\n",
       "2017-05-21     H2P     399     399          0         0\n",
       "...            ...     ...     ...        ...       ...\n",
       "2021-06-06     J4G    1322    1322          0         0\n",
       "2021-06-06     L0J    1350    1350          0         0\n",
       "2021-06-06     V1G    2265    2264          1         1\n",
       "2021-06-06     G8B    1536    1536          0         0\n",
       "2021-06-06     R2N    4938    4937          1         1\n",
       "\n",
       "[348180 rows x 5 columns]"
      ]
     },
     "execution_count": 96,
     "metadata": {},
     "output_type": "execute_result"
    }
   ],
   "source": [
    "merge_inner"
   ]
  },
  {
   "cell_type": "code",
   "execution_count": 28,
   "id": "da46fb13-f85a-4c6d-96cb-6db1f264e24b",
   "metadata": {},
   "outputs": [
    {
     "data": {
      "text/plain": [
       "zipcode\n",
       "T2E     25.132075\n",
       "M3H     25.391509\n",
       "H3H     25.735849\n",
       "L6T     27.754717\n",
       "L4W     31.004717\n",
       "L3Y     33.033019\n",
       "L6C     35.721698\n",
       "L2V     35.816038\n",
       "L4K     36.933962\n",
       "L9T     37.334906\n",
       "L5N     42.014151\n",
       "M9W     44.099057\n",
       "L4B     49.688679\n",
       "L5R     53.726415\n",
       "V6V     53.811321\n",
       "L6H     66.683962\n",
       "L3R     84.891509\n",
       "M1S    151.235849\n",
       "L5T    164.981132\n",
       "L7G    177.419811\n",
       "Name: pkgs_abs, dtype: float64"
      ]
     },
     "execution_count": 28,
     "metadata": {},
     "output_type": "execute_result"
    }
   ],
   "source": [
    "mean_abs = merge_inner.groupby(['zipcode'])['pkgs_abs'].mean().sort_values()\n",
    "mean_abs.tail(20)"
   ]
  },
  {
   "cell_type": "code",
   "execution_count": 14,
   "id": "88a92cab-cc6f-4fb2-935e-0d50f9a56be2",
   "metadata": {},
   "outputs": [],
   "source": [
    "#mean_abs = merge_inner.groupby(['zipcode'])['pkgs_abs'].mean().sort_values()/(['pkgs_abs']).mean()"
   ]
  },
  {
   "cell_type": "code",
   "execution_count": 99,
   "id": "7babbb2a-912f-425f-b2d5-b7216cfcbf9e",
   "metadata": {},
   "outputs": [
    {
     "data": {
      "text/html": [
       "<div>\n",
       "<style scoped>\n",
       "    .dataframe tbody tr th:only-of-type {\n",
       "        vertical-align: middle;\n",
       "    }\n",
       "\n",
       "    .dataframe tbody tr th {\n",
       "        vertical-align: top;\n",
       "    }\n",
       "\n",
       "    .dataframe thead th {\n",
       "        text-align: right;\n",
       "    }\n",
       "</style>\n",
       "<table border=\"1\" class=\"dataframe\">\n",
       "  <thead>\n",
       "    <tr style=\"text-align: right;\">\n",
       "      <th></th>\n",
       "      <th>zipcode</th>\n",
       "      <th>pkgs</th>\n",
       "    </tr>\n",
       "    <tr>\n",
       "      <th>ship_week</th>\n",
       "      <th></th>\n",
       "      <th></th>\n",
       "    </tr>\n",
       "  </thead>\n",
       "  <tbody>\n",
       "    <tr>\n",
       "      <th>2017-05-28</th>\n",
       "      <td>V3S</td>\n",
       "      <td>2438</td>\n",
       "    </tr>\n",
       "    <tr>\n",
       "      <th>2017-06-04</th>\n",
       "      <td>V3S</td>\n",
       "      <td>2284</td>\n",
       "    </tr>\n",
       "    <tr>\n",
       "      <th>2017-06-11</th>\n",
       "      <td>V3S</td>\n",
       "      <td>2591</td>\n",
       "    </tr>\n",
       "    <tr>\n",
       "      <th>2017-06-18</th>\n",
       "      <td>V3S</td>\n",
       "      <td>2444</td>\n",
       "    </tr>\n",
       "    <tr>\n",
       "      <th>2017-06-25</th>\n",
       "      <td>V3S</td>\n",
       "      <td>2417</td>\n",
       "    </tr>\n",
       "    <tr>\n",
       "      <th>...</th>\n",
       "      <td>...</td>\n",
       "      <td>...</td>\n",
       "    </tr>\n",
       "    <tr>\n",
       "      <th>2021-05-16</th>\n",
       "      <td>V3S</td>\n",
       "      <td>17145</td>\n",
       "    </tr>\n",
       "    <tr>\n",
       "      <th>2021-05-23</th>\n",
       "      <td>V3S</td>\n",
       "      <td>17811</td>\n",
       "    </tr>\n",
       "    <tr>\n",
       "      <th>2021-05-30</th>\n",
       "      <td>V3S</td>\n",
       "      <td>17214</td>\n",
       "    </tr>\n",
       "    <tr>\n",
       "      <th>2021-06-06</th>\n",
       "      <td>V3S</td>\n",
       "      <td>17273</td>\n",
       "    </tr>\n",
       "    <tr>\n",
       "      <th>2021-06-13</th>\n",
       "      <td>V3S</td>\n",
       "      <td>16790</td>\n",
       "    </tr>\n",
       "  </tbody>\n",
       "</table>\n",
       "<p>212 rows × 2 columns</p>\n",
       "</div>"
      ],
      "text/plain": [
       "           zipcode   pkgs\n",
       "ship_week                \n",
       "2017-05-28     V3S   2438\n",
       "2017-06-04     V3S   2284\n",
       "2017-06-11     V3S   2591\n",
       "2017-06-18     V3S   2444\n",
       "2017-06-25     V3S   2417\n",
       "...            ...    ...\n",
       "2021-05-16     V3S  17145\n",
       "2021-05-23     V3S  17811\n",
       "2021-05-30     V3S  17214\n",
       "2021-06-06     V3S  17273\n",
       "2021-06-13     V3S  16790\n",
       "\n",
       "[212 rows x 2 columns]"
      ]
     },
     "execution_count": 99,
     "metadata": {},
     "output_type": "execute_result"
    }
   ],
   "source": [
    "#pulling V3S zipcode for modeling \n",
    "\n",
    "new_zip1 = new_df[new_df.zipcode == 'V3S']\n",
    "new_zip1"
   ]
  },
  {
   "cell_type": "code",
   "execution_count": 1,
   "id": "f818e1f7-ecca-4f8a-b30e-f0468c939cf8",
   "metadata": {},
   "outputs": [],
   "source": [
    "#\n",
    "# new_zip1.columns = ['ship_week','zipcode','pkgs']\n",
    "# new_zip1 = new_zip1[(pd.to_datetime(new_zip1['ship_week']).dt.day != 1) |\n",
    "#                     (pd.to_datetime(new_zip1['ship_week']).dt.month != 1)]"
   ]
  },
  {
   "cell_type": "code",
   "execution_count": 15,
   "id": "2363e37a-7a98-4cdb-821d-00032394d8d4",
   "metadata": {},
   "outputs": [],
   "source": [
    " #split data: Train (3 years; 156weeks), Test (1 year; 52weeks),and Forecast (3 years; 325weeks)\n",
    "\n",
    "train_data = new_zip1[-4*212:156]\n",
    "test_data = new_zip1[-52:]\n",
    "fcst_data = new_zip1[-3*52:]\n"
   ]
  },
  {
   "cell_type": "code",
   "execution_count": 16,
   "id": "8b954ff4-bdb1-449e-b13f-1993168190c1",
   "metadata": {},
   "outputs": [
    {
     "data": {
      "text/plain": [
       "(156, 2)"
      ]
     },
     "execution_count": 16,
     "metadata": {},
     "output_type": "execute_result"
    }
   ],
   "source": [
    "train_data.shape"
   ]
  },
  {
   "cell_type": "code",
   "execution_count": 17,
   "id": "2534c68d-1444-429d-9755-311e190cbb22",
   "metadata": {},
   "outputs": [
    {
     "data": {
      "text/html": [
       "<div>\n",
       "<style scoped>\n",
       "    .dataframe tbody tr th:only-of-type {\n",
       "        vertical-align: middle;\n",
       "    }\n",
       "\n",
       "    .dataframe tbody tr th {\n",
       "        vertical-align: top;\n",
       "    }\n",
       "\n",
       "    .dataframe thead th {\n",
       "        text-align: right;\n",
       "    }\n",
       "</style>\n",
       "<table border=\"1\" class=\"dataframe\">\n",
       "  <thead>\n",
       "    <tr style=\"text-align: right;\">\n",
       "      <th></th>\n",
       "      <th>zipcode</th>\n",
       "      <th>pkgs</th>\n",
       "    </tr>\n",
       "    <tr>\n",
       "      <th>ship_week</th>\n",
       "      <th></th>\n",
       "      <th></th>\n",
       "    </tr>\n",
       "  </thead>\n",
       "  <tbody>\n",
       "    <tr>\n",
       "      <th>2017-05-28</th>\n",
       "      <td>V3S</td>\n",
       "      <td>2438</td>\n",
       "    </tr>\n",
       "    <tr>\n",
       "      <th>2017-06-04</th>\n",
       "      <td>V3S</td>\n",
       "      <td>2284</td>\n",
       "    </tr>\n",
       "    <tr>\n",
       "      <th>2017-06-11</th>\n",
       "      <td>V3S</td>\n",
       "      <td>2591</td>\n",
       "    </tr>\n",
       "    <tr>\n",
       "      <th>2017-06-18</th>\n",
       "      <td>V3S</td>\n",
       "      <td>2444</td>\n",
       "    </tr>\n",
       "    <tr>\n",
       "      <th>2017-06-25</th>\n",
       "      <td>V3S</td>\n",
       "      <td>2417</td>\n",
       "    </tr>\n",
       "  </tbody>\n",
       "</table>\n",
       "</div>"
      ],
      "text/plain": [
       "           zipcode  pkgs\n",
       "ship_week               \n",
       "2017-05-28     V3S  2438\n",
       "2017-06-04     V3S  2284\n",
       "2017-06-11     V3S  2591\n",
       "2017-06-18     V3S  2444\n",
       "2017-06-25     V3S  2417"
      ]
     },
     "execution_count": 17,
     "metadata": {},
     "output_type": "execute_result"
    }
   ],
   "source": [
    "train_data.head()"
   ]
  },
  {
   "cell_type": "code",
   "execution_count": 18,
   "id": "97bfdf29-a76e-49fb-bba7-50ff00f1b0e7",
   "metadata": {},
   "outputs": [
    {
     "data": {
      "text/plain": [
       "(52, 2)"
      ]
     },
     "execution_count": 18,
     "metadata": {},
     "output_type": "execute_result"
    }
   ],
   "source": [
    "test_data.shape"
   ]
  },
  {
   "cell_type": "code",
   "execution_count": 19,
   "id": "31e45d30-10d4-4021-adc9-28afdaff7949",
   "metadata": {},
   "outputs": [
    {
     "data": {
      "text/plain": [
       "(156, 2)"
      ]
     },
     "execution_count": 19,
     "metadata": {},
     "output_type": "execute_result"
    }
   ],
   "source": [
    "fcst_data.shape "
   ]
  },
  {
   "cell_type": "code",
   "execution_count": 20,
   "id": "5d2b6e69-98d9-4c96-8c91-51e5721b1779",
   "metadata": {},
   "outputs": [
    {
     "data": {
      "text/html": [
       "<div>\n",
       "<style scoped>\n",
       "    .dataframe tbody tr th:only-of-type {\n",
       "        vertical-align: middle;\n",
       "    }\n",
       "\n",
       "    .dataframe tbody tr th {\n",
       "        vertical-align: top;\n",
       "    }\n",
       "\n",
       "    .dataframe thead th {\n",
       "        text-align: right;\n",
       "    }\n",
       "</style>\n",
       "<table border=\"1\" class=\"dataframe\">\n",
       "  <thead>\n",
       "    <tr style=\"text-align: right;\">\n",
       "      <th></th>\n",
       "      <th>zipcode</th>\n",
       "      <th>pkgs</th>\n",
       "    </tr>\n",
       "    <tr>\n",
       "      <th>ship_week</th>\n",
       "      <th></th>\n",
       "      <th></th>\n",
       "    </tr>\n",
       "  </thead>\n",
       "  <tbody>\n",
       "    <tr>\n",
       "      <th>2017-05-28</th>\n",
       "      <td>V3S</td>\n",
       "      <td>2438</td>\n",
       "    </tr>\n",
       "    <tr>\n",
       "      <th>2017-06-04</th>\n",
       "      <td>V3S</td>\n",
       "      <td>2284</td>\n",
       "    </tr>\n",
       "    <tr>\n",
       "      <th>2017-06-11</th>\n",
       "      <td>V3S</td>\n",
       "      <td>2591</td>\n",
       "    </tr>\n",
       "    <tr>\n",
       "      <th>2017-06-18</th>\n",
       "      <td>V3S</td>\n",
       "      <td>2444</td>\n",
       "    </tr>\n",
       "    <tr>\n",
       "      <th>2017-06-25</th>\n",
       "      <td>V3S</td>\n",
       "      <td>2417</td>\n",
       "    </tr>\n",
       "    <tr>\n",
       "      <th>...</th>\n",
       "      <td>...</td>\n",
       "      <td>...</td>\n",
       "    </tr>\n",
       "    <tr>\n",
       "      <th>2021-05-16</th>\n",
       "      <td>V3S</td>\n",
       "      <td>17145</td>\n",
       "    </tr>\n",
       "    <tr>\n",
       "      <th>2021-05-23</th>\n",
       "      <td>V3S</td>\n",
       "      <td>17811</td>\n",
       "    </tr>\n",
       "    <tr>\n",
       "      <th>2021-05-30</th>\n",
       "      <td>V3S</td>\n",
       "      <td>17214</td>\n",
       "    </tr>\n",
       "    <tr>\n",
       "      <th>2021-06-06</th>\n",
       "      <td>V3S</td>\n",
       "      <td>17273</td>\n",
       "    </tr>\n",
       "    <tr>\n",
       "      <th>2021-06-13</th>\n",
       "      <td>V3S</td>\n",
       "      <td>16790</td>\n",
       "    </tr>\n",
       "  </tbody>\n",
       "</table>\n",
       "<p>212 rows × 2 columns</p>\n",
       "</div>"
      ],
      "text/plain": [
       "           zipcode   pkgs\n",
       "ship_week                \n",
       "2017-05-28     V3S   2438\n",
       "2017-06-04     V3S   2284\n",
       "2017-06-11     V3S   2591\n",
       "2017-06-18     V3S   2444\n",
       "2017-06-25     V3S   2417\n",
       "...            ...    ...\n",
       "2021-05-16     V3S  17145\n",
       "2021-05-23     V3S  17811\n",
       "2021-05-30     V3S  17214\n",
       "2021-06-06     V3S  17273\n",
       "2021-06-13     V3S  16790\n",
       "\n",
       "[212 rows x 2 columns]"
      ]
     },
     "execution_count": 20,
     "metadata": {},
     "output_type": "execute_result"
    }
   ],
   "source": [
    "new_zip1"
   ]
  },
  {
   "cell_type": "code",
   "execution_count": 21,
   "id": "104f4ad1-fa49-4f68-8e19-6b29a4849286",
   "metadata": {},
   "outputs": [
    {
     "data": {
      "image/png": "[encoded data removed]",
      "text/plain": [
       "<Figure size 1600x500 with 1 Axes>"
      ]
     },
     "metadata": {
      "needs_background": "light"
     },
     "output_type": "display_data"
    }
   ],
   "source": [
    "#train data visuals\n",
    "\n",
    "def plot_train_data(train_data, x, y, title=\"\", xlabel='ship_week', ylabel='pkgs', dpi=100):\n",
    "    #q.groupby('zipcode')['pkgs'].plot(legend=True)\n",
    "    plt.figure(figsize=(16,5), dpi=dpi)\n",
    "    plt.plot(x, y, color='tab:red')\n",
    "    plt.gca().set(title=title, xlabel=xlabel, ylabel=ylabel)\n",
    "    plt.show()\n",
    "    \n",
    "plot_train_data(train_data, x=train_data.index, y=train_data.pkgs, title='Yearly')    \n"
   ]
  },
  {
   "cell_type": "code",
   "execution_count": 22,
   "id": "bfa76f34-64a4-4c74-a237-a23401604453",
   "metadata": {},
   "outputs": [
    {
     "data": {
      "image/png": "[encoded data removed]",
      "text/plain": [
       "<Figure size 1600x500 with 1 Axes>"
      ]
     },
     "metadata": {
      "needs_background": "light"
     },
     "output_type": "display_data"
    }
   ],
   "source": [
    "#visualize test data to check the similarity\n",
    "\n",
    "def plot_test_data(test_data, x, y, title=\"\", xlabel='ship_week', ylabel='pkgs', dpi=100):\n",
    "    #q.groupby('zipcode')['pkgs'].plot(legend=True)\n",
    "    plt.figure(figsize=(16,5), dpi=dpi)\n",
    "    plt.plot(x, y, color='tab:red')\n",
    "    plt.gca().set(title=title, xlabel=xlabel, ylabel=ylabel)\n",
    "    plt.show()\n",
    "    \n",
    "plot_test_data(test_data, x=test_data.index, y=test_data.pkgs, title='Yearly')    \n"
   ]
  },
  {
   "cell_type": "markdown",
   "id": "9f5ae10d-eecc-40d7-a268-b91008ed1a8d",
   "metadata": {},
   "source": [
    "## Moving Average Model "
   ]
  },
  {
   "cell_type": "code",
   "execution_count": 117,
   "id": "0f3e0b7a-9800-459a-aa95-08c421b270ba",
   "metadata": {},
   "outputs": [],
   "source": [
    "#difference between moving avg model and moving avg smooothing \n",
    "\n",
    "import pandas as pd\n",
    "from matplotlib import pyplot\n",
    "import statsmodels as sm\n",
    "from statsmodels.tsa.stattools import adfuller\n",
    "from statsmodels.graphics.tsaplots import plot_acf, plot_pacf\n",
    "from statsmodels.tsa.arima_model import ARIMA\n",
    "from statsmodels.tsa.arima_model import ARMA\n",
    "import statistics\n",
    "from sklearn.model_selection import TimeSeriesSplit"
   ]
  },
  {
   "cell_type": "markdown",
   "id": "979aad58-9ccf-4d8d-bc1a-8291f407fb4f",
   "metadata": {},
   "source": [
    "## Dividing the dataset into Training, Testing and Forecasts sets "
   ]
  },
  {
   "cell_type": "code",
   "execution_count": 2,
   "id": "7247ba02-9cb9-4a41-b856-9c998f27ce92",
   "metadata": {},
   "outputs": [
    {
     "ename": "NameError",
     "evalue": "name 'new_zip1' is not defined",
     "output_type": "error",
     "traceback": [
      "\u001b[0;31m---------------------------------------------------------------------------\u001b[0m",
      "\u001b[0;31mNameError\u001b[0m                                 Traceback (most recent call last)",
      "\u001b[0;32m<ipython-input-2-96ad3b1911c0>\u001b[0m in \u001b[0;36m<module>\u001b[0;34m\u001b[0m\n\u001b[0;32m----> 1\u001b[0;31m \u001b[0mtrain_data\u001b[0m \u001b[0;34m=\u001b[0m \u001b[0mnew_zip1\u001b[0m\u001b[0;34m[\u001b[0m\u001b[0;34m-\u001b[0m\u001b[0;36m4\u001b[0m\u001b[0;34m*\u001b[0m\u001b[0;36m212\u001b[0m\u001b[0;34m:\u001b[0m\u001b[0;36m156\u001b[0m\u001b[0;34m]\u001b[0m\u001b[0;34m\u001b[0m\u001b[0;34m\u001b[0m\u001b[0m\n\u001b[0m\u001b[1;32m      2\u001b[0m \u001b[0mtrain_data\u001b[0m\u001b[0;34m.\u001b[0m\u001b[0mhead\u001b[0m\u001b[0;34m(\u001b[0m\u001b[0;36m20\u001b[0m\u001b[0;34m)\u001b[0m\u001b[0;34m\u001b[0m\u001b[0;34m\u001b[0m\u001b[0m\n\u001b[1;32m      3\u001b[0m \u001b[0mtrain_data\u001b[0m\u001b[0;34m.\u001b[0m\u001b[0mindex\u001b[0m\u001b[0;34m\u001b[0m\u001b[0;34m\u001b[0m\u001b[0m\n",
      "\u001b[0;31mNameError\u001b[0m: name 'new_zip1' is not defined"
     ]
    }
   ],
   "source": [
    "train_data = new_zip1[-4*212:156]\n",
    "train_data.head(20)\n",
    "train_data.index"
   ]
  },
  {
   "cell_type": "code",
   "execution_count": 25,
   "id": "4f80251f-a5d9-4559-9dfc-348085212801",
   "metadata": {},
   "outputs": [
    {
     "data": {
      "text/plain": [
       "ship_week\n",
       "2017-05-28     2438\n",
       "2017-06-04     2284\n",
       "2017-06-11     2591\n",
       "2017-06-18     2444\n",
       "2017-06-25     2417\n",
       "              ...  \n",
       "2020-04-19    11863\n",
       "2020-04-26    13817\n",
       "2020-05-03    15874\n",
       "2020-05-10    15650\n",
       "2020-05-17    16743\n",
       "Name: pkgs, Length: 156, dtype: int64"
      ]
     },
     "execution_count": 25,
     "metadata": {},
     "output_type": "execute_result"
    }
   ],
   "source": [
    "train_data1 = train_data.iloc[:,1]\n",
    "train_data1"
   ]
  },
  {
   "cell_type": "markdown",
   "id": "01974ad2-9d06-48bc-9f38-cf54a92aea46",
   "metadata": {},
   "source": [
    "## Transformation (Ist order difference)"
   ]
  },
  {
   "cell_type": "code",
   "execution_count": 1,
   "id": "bda1255a-1be1-4a4b-b99c-9da2f7b82e40",
   "metadata": {},
   "outputs": [
    {
     "ename": "NameError",
     "evalue": "name 'train_data1' is not defined",
     "output_type": "error",
     "traceback": [
      "\u001b[0;31m---------------------------------------------------------------------------\u001b[0m",
      "\u001b[0;31mNameError\u001b[0m                                 Traceback (most recent call last)",
      "\u001b[0;32m<ipython-input-1-e3a8d8ff9bbe>\u001b[0m in \u001b[0;36m<module>\u001b[0;34m\u001b[0m\n\u001b[1;32m      1\u001b[0m \u001b[0;31m#train_data_diff = train_data1.diff()\u001b[0m\u001b[0;34m\u001b[0m\u001b[0;34m\u001b[0m\u001b[0;34m\u001b[0m\u001b[0m\n\u001b[0;32m----> 2\u001b[0;31m \u001b[0mtrain_data_diff\u001b[0m \u001b[0;34m=\u001b[0m \u001b[0mtrain_data1\u001b[0m\u001b[0;34m.\u001b[0m\u001b[0mdiff\u001b[0m\u001b[0;34m(\u001b[0m\u001b[0;34m)\u001b[0m\u001b[0;34m.\u001b[0m\u001b[0mfillna\u001b[0m\u001b[0;34m(\u001b[0m\u001b[0mtrain_data1\u001b[0m\u001b[0;34m)\u001b[0m\u001b[0;34m\u001b[0m\u001b[0;34m\u001b[0m\u001b[0m\n\u001b[0m\u001b[1;32m      3\u001b[0m \u001b[0mpyplot\u001b[0m\u001b[0;34m.\u001b[0m\u001b[0mplot\u001b[0m\u001b[0;34m(\u001b[0m\u001b[0mtrain_data_diff\u001b[0m\u001b[0;34m)\u001b[0m\u001b[0;34m\u001b[0m\u001b[0;34m\u001b[0m\u001b[0m\n\u001b[1;32m      4\u001b[0m \u001b[0mplt\u001b[0m\u001b[0;34m.\u001b[0m\u001b[0mshow\u001b[0m\u001b[0;34m(\u001b[0m\u001b[0;34m)\u001b[0m\u001b[0;34m\u001b[0m\u001b[0;34m\u001b[0m\u001b[0m\n",
      "\u001b[0;31mNameError\u001b[0m: name 'train_data1' is not defined"
     ]
    }
   ],
   "source": [
    "#train_data_diff = train_data1.diff()\n",
    "train_data_diff = train_data1.diff().fillna(train_data1)\n",
    "pyplot.plot(train_data_diff)\n",
    "plt.show()\n"
   ]
  },
  {
   "cell_type": "code",
   "execution_count": 118,
   "id": "6f1fded4-bd8c-4cf5-84f5-83fa28d2029c",
   "metadata": {},
   "outputs": [],
   "source": [
    "#plot_acf(train_data_diff, lags=20)"
   ]
  },
  {
   "cell_type": "code",
   "execution_count": 119,
   "id": "5bcf6592-d6c9-4d91-adc7-654113f4426f",
   "metadata": {},
   "outputs": [],
   "source": [
    "#there is a significant acf up to lag 1 and non-significant acf (almost zero) after lag 1. The model\n",
    "#to be used will be 1 i.e MA(1)\n",
    "#plot_pacf(train_data_diff, lags=20)"
   ]
  },
  {
   "cell_type": "markdown",
   "id": "9c1d3ac8-cdc1-46a3-9d0b-4be28835dc03",
   "metadata": {},
   "source": [
    "## Fitting the Model AR + MA = ARMA "
   ]
  },
  {
   "cell_type": "code",
   "execution_count": 27,
   "id": "659b7e6f-2ad7-4479-a1f3-6d2cefec0934",
   "metadata": {},
   "outputs": [
    {
     "name": "stderr",
     "output_type": "stream",
     "text": [
      "/home/ukaec/anaconda3/envs/your_env_name/lib/python3.7/site-packages/statsmodels/tsa/arima_model.py:472: FutureWarning: \n",
      "statsmodels.tsa.arima_model.ARMA and statsmodels.tsa.arima_model.ARIMA have\n",
      "been deprecated in favor of statsmodels.tsa.arima.model.ARIMA (note the .\n",
      "between arima and model) and\n",
      "statsmodels.tsa.SARIMAX. These will be removed after the 0.12 release.\n",
      "\n",
      "statsmodels.tsa.arima.model.ARIMA makes use of the statespace framework and\n",
      "is both well tested and maintained.\n",
      "\n",
      "To silence this warning and continue using ARMA and ARIMA until they are\n",
      "removed, use:\n",
      "\n",
      "import warnings\n",
      "warnings.filterwarnings('ignore', 'statsmodels.tsa.arima_model.ARMA',\n",
      "                        FutureWarning)\n",
      "warnings.filterwarnings('ignore', 'statsmodels.tsa.arima_model.ARIMA',\n",
      "                        FutureWarning)\n",
      "\n",
      "  warnings.warn(ARIMA_DEPRECATION_WARN, FutureWarning)\n",
      "/home/ukaec/anaconda3/envs/your_env_name/lib/python3.7/site-packages/statsmodels/tsa/base/tsa_model.py:527: ValueWarning: No frequency information was provided, so inferred frequency W-SUN will be used.\n",
      "  % freq, ValueWarning)\n"
     ]
    },
    {
     "data": {
      "text/plain": [
       "<statsmodels.tsa.arima_model.ARMAResultsWrapper at 0x7fa27787ebd0>"
      ]
     },
     "execution_count": 27,
     "metadata": {},
     "output_type": "execute_result"
    }
   ],
   "source": [
    "\n",
    "#AR(1) & MA(3).\n",
    "model = ARIMA(train_data_diff, order=(1,0,3))\n",
    "model_fit = model.fit()\n",
    "model_fit"
   ]
  },
  {
   "cell_type": "code",
   "execution_count": 28,
   "id": "ae0c85f4-5ad3-4fa0-9a25-347f0f414586",
   "metadata": {},
   "outputs": [
    {
     "data": {
      "text/html": [
       "<table class=\"simpletable\">\n",
       "<caption>ARMA Model Results</caption>\n",
       "<tr>\n",
       "  <th>Dep. Variable:</th>       <td>pkgs</td>       <th>  No. Observations:  </th>    <td>156</td>   \n",
       "</tr>\n",
       "<tr>\n",
       "  <th>Model:</th>            <td>ARMA(1, 3)</td>    <th>  Log Likelihood     </th> <td>-1328.676</td>\n",
       "</tr>\n",
       "<tr>\n",
       "  <th>Method:</th>             <td>css-mle</td>     <th>  S.D. of innovations</th> <td>1209.657</td> \n",
       "</tr>\n",
       "<tr>\n",
       "  <th>Date:</th>          <td>Sun, 20 Jun 2021</td> <th>  AIC                </th> <td>2669.353</td> \n",
       "</tr>\n",
       "<tr>\n",
       "  <th>Time:</th>              <td>21:05:05</td>     <th>  BIC                </th> <td>2687.652</td> \n",
       "</tr>\n",
       "<tr>\n",
       "  <th>Sample:</th>           <td>05-28-2017</td>    <th>  HQIC               </th> <td>2676.785</td> \n",
       "</tr>\n",
       "<tr>\n",
       "  <th></th>                 <td>- 05-17-2020</td>   <th>                     </th>     <td> </td>    \n",
       "</tr>\n",
       "</table>\n",
       "<table class=\"simpletable\">\n",
       "<tr>\n",
       "       <td></td>         <th>coef</th>     <th>std err</th>      <th>z</th>      <th>P>|z|</th>  <th>[0.025</th>    <th>0.975]</th>  \n",
       "</tr>\n",
       "<tr>\n",
       "  <th>const</th>      <td>  105.1032</td> <td>   84.876</td> <td>    1.238</td> <td> 0.216</td> <td>  -61.250</td> <td>  271.457</td>\n",
       "</tr>\n",
       "<tr>\n",
       "  <th>ar.L1.pkgs</th> <td>   -0.5050</td> <td>    0.383</td> <td>   -1.318</td> <td> 0.188</td> <td>   -1.256</td> <td>    0.246</td>\n",
       "</tr>\n",
       "<tr>\n",
       "  <th>ma.L1.pkgs</th> <td>    0.3608</td> <td>    0.377</td> <td>    0.956</td> <td> 0.339</td> <td>   -0.379</td> <td>    1.100</td>\n",
       "</tr>\n",
       "<tr>\n",
       "  <th>ma.L2.pkgs</th> <td>   -0.0980</td> <td>    0.126</td> <td>   -0.778</td> <td> 0.436</td> <td>   -0.345</td> <td>    0.149</td>\n",
       "</tr>\n",
       "<tr>\n",
       "  <th>ma.L3.pkgs</th> <td>    0.0542</td> <td>    0.099</td> <td>    0.549</td> <td> 0.583</td> <td>   -0.139</td> <td>    0.248</td>\n",
       "</tr>\n",
       "</table>\n",
       "<table class=\"simpletable\">\n",
       "<caption>Roots</caption>\n",
       "<tr>\n",
       "    <td></td>   <th>            Real</th>  <th>         Imaginary</th> <th>         Modulus</th>  <th>        Frequency</th>\n",
       "</tr>\n",
       "<tr>\n",
       "  <th>AR.1</th> <td>          -1.9801</td> <td>          +0.0000j</td> <td>           1.9801</td> <td>           0.5000</td>\n",
       "</tr>\n",
       "<tr>\n",
       "  <th>MA.1</th> <td>          -1.5532</td> <td>          -0.0000j</td> <td>           1.5532</td> <td>          -0.5000</td>\n",
       "</tr>\n",
       "<tr>\n",
       "  <th>MA.2</th> <td>           1.6806</td> <td>          -3.0088j</td> <td>           3.4463</td> <td>          -0.1689</td>\n",
       "</tr>\n",
       "<tr>\n",
       "  <th>MA.3</th> <td>           1.6806</td> <td>          +3.0088j</td> <td>           3.4463</td> <td>           0.1689</td>\n",
       "</tr>\n",
       "</table>"
      ],
      "text/plain": [
       "<class 'statsmodels.iolib.summary.Summary'>\n",
       "\"\"\"\n",
       "                              ARMA Model Results                              \n",
       "==============================================================================\n",
       "Dep. Variable:                   pkgs   No. Observations:                  156\n",
       "Model:                     ARMA(1, 3)   Log Likelihood               -1328.676\n",
       "Method:                       css-mle   S.D. of innovations           1209.657\n",
       "Date:                Sun, 20 Jun 2021   AIC                           2669.353\n",
       "Time:                        21:05:05   BIC                           2687.652\n",
       "Sample:                    05-28-2017   HQIC                          2676.785\n",
       "                         - 05-17-2020                                         \n",
       "==============================================================================\n",
       "                 coef    std err          z      P>|z|      [0.025      0.975]\n",
       "------------------------------------------------------------------------------\n",
       "const        105.1032     84.876      1.238      0.216     -61.250     271.457\n",
       "ar.L1.pkgs    -0.5050      0.383     -1.318      0.188      -1.256       0.246\n",
       "ma.L1.pkgs     0.3608      0.377      0.956      0.339      -0.379       1.100\n",
       "ma.L2.pkgs    -0.0980      0.126     -0.778      0.436      -0.345       0.149\n",
       "ma.L3.pkgs     0.0542      0.099      0.549      0.583      -0.139       0.248\n",
       "                                    Roots                                    \n",
       "=============================================================================\n",
       "                  Real          Imaginary           Modulus         Frequency\n",
       "-----------------------------------------------------------------------------\n",
       "AR.1           -1.9801           +0.0000j            1.9801            0.5000\n",
       "MA.1           -1.5532           -0.0000j            1.5532           -0.5000\n",
       "MA.2            1.6806           -3.0088j            3.4463           -0.1689\n",
       "MA.3            1.6806           +3.0088j            3.4463            0.1689\n",
       "-----------------------------------------------------------------------------\n",
       "\"\"\""
      ]
     },
     "execution_count": 28,
     "metadata": {},
     "output_type": "execute_result"
    }
   ],
   "source": [
    "model_fit.summary()"
   ]
  },
  {
   "cell_type": "code",
   "execution_count": 29,
   "id": "7dd4a538-e81d-4a75-b2bf-4da8fde4fae0",
   "metadata": {},
   "outputs": [
    {
     "ename": "AttributeError",
     "evalue": "'ARMAResults' object has no attribute 'plot_diagnostics'",
     "output_type": "error",
     "traceback": [
      "\u001b[0;31m---------------------------------------------------------------------------\u001b[0m",
      "\u001b[0;31mAttributeError\u001b[0m                            Traceback (most recent call last)",
      "\u001b[0;32m<ipython-input-29-c0b91ffc77d5>\u001b[0m in \u001b[0;36m<module>\u001b[0;34m\u001b[0m\n\u001b[0;32m----> 1\u001b[0;31m \u001b[0mmodel_fit\u001b[0m\u001b[0;34m.\u001b[0m\u001b[0mplot_diagnostics\u001b[0m\u001b[0;34m(\u001b[0m\u001b[0mfigsize\u001b[0m\u001b[0;34m=\u001b[0m\u001b[0;34m(\u001b[0m\u001b[0;36m15\u001b[0m\u001b[0;34m,\u001b[0m\u001b[0;36m12\u001b[0m\u001b[0;34m)\u001b[0m\u001b[0;34m)\u001b[0m \u001b[0;31m#check this with team members\u001b[0m\u001b[0;34m\u001b[0m\u001b[0;34m\u001b[0m\u001b[0m\n\u001b[0m",
      "\u001b[0;32m~/anaconda3/envs/your_env_name/lib/python3.7/site-packages/statsmodels/base/wrapper.py\u001b[0m in \u001b[0;36m__getattribute__\u001b[0;34m(self, attr)\u001b[0m\n\u001b[1;32m     32\u001b[0m             \u001b[0;32mpass\u001b[0m\u001b[0;34m\u001b[0m\u001b[0;34m\u001b[0m\u001b[0m\n\u001b[1;32m     33\u001b[0m \u001b[0;34m\u001b[0m\u001b[0m\n\u001b[0;32m---> 34\u001b[0;31m         \u001b[0mobj\u001b[0m \u001b[0;34m=\u001b[0m \u001b[0mgetattr\u001b[0m\u001b[0;34m(\u001b[0m\u001b[0mresults\u001b[0m\u001b[0;34m,\u001b[0m \u001b[0mattr\u001b[0m\u001b[0;34m)\u001b[0m\u001b[0;34m\u001b[0m\u001b[0;34m\u001b[0m\u001b[0m\n\u001b[0m\u001b[1;32m     35\u001b[0m         \u001b[0mdata\u001b[0m \u001b[0;34m=\u001b[0m \u001b[0mresults\u001b[0m\u001b[0;34m.\u001b[0m\u001b[0mmodel\u001b[0m\u001b[0;34m.\u001b[0m\u001b[0mdata\u001b[0m\u001b[0;34m\u001b[0m\u001b[0;34m\u001b[0m\u001b[0m\n\u001b[1;32m     36\u001b[0m         \u001b[0mhow\u001b[0m \u001b[0;34m=\u001b[0m \u001b[0mself\u001b[0m\u001b[0;34m.\u001b[0m\u001b[0m_wrap_attrs\u001b[0m\u001b[0;34m.\u001b[0m\u001b[0mget\u001b[0m\u001b[0;34m(\u001b[0m\u001b[0mattr\u001b[0m\u001b[0;34m)\u001b[0m\u001b[0;34m\u001b[0m\u001b[0;34m\u001b[0m\u001b[0m\n",
      "\u001b[0;31mAttributeError\u001b[0m: 'ARMAResults' object has no attribute 'plot_diagnostics'"
     ]
    }
   ],
   "source": [
    "model_fit.plot_diagnostics(figsize=(15,12)) #check this with team members "
   ]
  },
  {
   "cell_type": "code",
   "execution_count": 30,
   "id": "7b7843e1-e06f-4cce-8aee-3541b1b1c877",
   "metadata": {},
   "outputs": [
    {
     "name": "stdout",
     "output_type": "stream",
     "text": [
      "const         105.103206\n",
      "ar.L1.pkgs     -0.505017\n",
      "ma.L1.pkgs      0.360827\n",
      "ma.L2.pkgs     -0.098010\n",
      "ma.L3.pkgs      0.054207\n",
      "dtype: float64\n"
     ]
    }
   ],
   "source": [
    "print(model_fit.params)"
   ]
  },
  {
   "cell_type": "code",
   "execution_count": 68,
   "id": "5c48a4ac-67cd-4b8f-8875-395d559a9168",
   "metadata": {},
   "outputs": [],
   "source": [
    "test_data = new_zip1[-52:]"
   ]
  },
  {
   "cell_type": "code",
   "execution_count": 69,
   "id": "2f8e8146-db13-4df5-b91f-227b04aab5b4",
   "metadata": {},
   "outputs": [
    {
     "data": {
      "text/plain": [
       "(52, 2)"
      ]
     },
     "execution_count": 69,
     "metadata": {},
     "output_type": "execute_result"
    }
   ],
   "source": [
    "test_data.shape"
   ]
  },
  {
   "cell_type": "code",
   "execution_count": 70,
   "id": "edb83409-7baf-47e3-9a26-a03afa1d66e2",
   "metadata": {},
   "outputs": [
    {
     "data": {
      "text/plain": [
       "ship_week\n",
       "2020-06-21    15855\n",
       "2020-06-28    15705\n",
       "2020-07-05    16169\n",
       "2020-07-12    16517\n",
       "2020-07-19    17065\n",
       "Name: pkgs, dtype: int64"
      ]
     },
     "execution_count": 70,
     "metadata": {},
     "output_type": "execute_result"
    }
   ],
   "source": [
    "test_data1 = test_data.iloc[:,1]\n",
    "test_data1.head(5)"
   ]
  },
  {
   "cell_type": "code",
   "execution_count": 52,
   "id": "5aa662bb-7986-4fac-ba61-395dbe279d33",
   "metadata": {},
   "outputs": [
    {
     "data": {
      "text/plain": [
       "2020-05-24     54.798026\n",
       "2020-05-31     41.641592\n",
       "2020-06-07    187.072048\n",
       "2020-06-14     63.707584\n",
       "2020-06-21    126.008681\n",
       "2020-06-28     94.545595\n",
       "2020-07-05    110.434974\n",
       "2020-07-12    102.410575\n",
       "2020-07-19    106.463029\n",
       "2020-07-26    104.416473\n",
       "Freq: W-SUN, dtype: float64"
      ]
     },
     "execution_count": 52,
     "metadata": {},
     "output_type": "execute_result"
    }
   ],
   "source": [
    "#prediction on the test data\n",
    "pred_model = model_fit.predict(start=156, end=156+52-1)\n",
    "pred_model.head(10)"
   ]
  },
  {
   "cell_type": "code",
   "execution_count": 32,
   "id": "eee07c9e-0298-445a-9ec7-cc4cb567692f",
   "metadata": {},
   "outputs": [],
   "source": [
    "#from datetime import datetime, date, timedelta\n",
    "#start_date = datetime(2020,5,17)\n",
    "#end_date = datetime(2020,5,17) + timedelta(days=52*7)\n",
    "#model_fit.predict(start=start_date, end=end_date)"
   ]
  },
  {
   "cell_type": "markdown",
   "id": "fc672a49-48ed-44d9-b871-19b3e94024e3",
   "metadata": {},
   "source": [
    "## Forecasts"
   ]
  },
  {
   "cell_type": "code",
   "execution_count": 35,
   "id": "6d69eecb-6e9f-43d9-abc2-64a9edf34d8e",
   "metadata": {},
   "outputs": [
    {
     "data": {
      "text/plain": [
       "ship_week\n",
       "2018-06-24    4133\n",
       "2018-07-01    3926\n",
       "2018-07-08    4272\n",
       "2018-07-15    7192\n",
       "2018-07-22    4858\n",
       "Name: pkgs, dtype: int64"
      ]
     },
     "execution_count": 35,
     "metadata": {},
     "output_type": "execute_result"
    }
   ],
   "source": [
    "fcst_data = new_zip1[-3*52:]\n",
    "fcst_data1 = fcst_data.iloc[:,1]\n",
    "fcst_data1.head(5)"
   ]
  },
  {
   "cell_type": "code",
   "execution_count": 49,
   "id": "2dd7d0af-c23e-4cd7-beb5-5561c2d6e8b5",
   "metadata": {},
   "outputs": [
    {
     "name": "stderr",
     "output_type": "stream",
     "text": [
      "/home/ukaec/anaconda3/envs/your_env_name/lib/python3.7/site-packages/statsmodels/tsa/arima_model.py:472: FutureWarning: \n",
      "statsmodels.tsa.arima_model.ARMA and statsmodels.tsa.arima_model.ARIMA have\n",
      "been deprecated in favor of statsmodels.tsa.arima.model.ARIMA (note the .\n",
      "between arima and model) and\n",
      "statsmodels.tsa.SARIMAX. These will be removed after the 0.12 release.\n",
      "\n",
      "statsmodels.tsa.arima.model.ARIMA makes use of the statespace framework and\n",
      "is both well tested and maintained.\n",
      "\n",
      "To silence this warning and continue using ARMA and ARIMA until they are\n",
      "removed, use:\n",
      "\n",
      "import warnings\n",
      "warnings.filterwarnings('ignore', 'statsmodels.tsa.arima_model.ARMA',\n",
      "                        FutureWarning)\n",
      "warnings.filterwarnings('ignore', 'statsmodels.tsa.arima_model.ARIMA',\n",
      "                        FutureWarning)\n",
      "\n",
      "  warnings.warn(ARIMA_DEPRECATION_WARN, FutureWarning)\n",
      "/home/ukaec/anaconda3/envs/your_env_name/lib/python3.7/site-packages/statsmodels/tsa/base/tsa_model.py:527: ValueWarning: No frequency information was provided, so inferred frequency W-SUN will be used.\n",
      "  % freq, ValueWarning)\n"
     ]
    },
    {
     "data": {
      "text/html": [
       "<table class=\"simpletable\">\n",
       "<caption>ARMA Model Results</caption>\n",
       "<tr>\n",
       "  <th>Dep. Variable:</th>       <td>pkgs</td>       <th>  No. Observations:  </th>    <td>156</td>   \n",
       "</tr>\n",
       "<tr>\n",
       "  <th>Model:</th>            <td>ARMA(1, 3)</td>    <th>  Log Likelihood     </th> <td>-1387.203</td>\n",
       "</tr>\n",
       "<tr>\n",
       "  <th>Method:</th>             <td>css-mle</td>     <th>  S.D. of innovations</th> <td>1745.950</td> \n",
       "</tr>\n",
       "<tr>\n",
       "  <th>Date:</th>          <td>Sun, 20 Jun 2021</td> <th>  AIC                </th> <td>2786.406</td> \n",
       "</tr>\n",
       "<tr>\n",
       "  <th>Time:</th>              <td>21:29:47</td>     <th>  BIC                </th> <td>2804.705</td> \n",
       "</tr>\n",
       "<tr>\n",
       "  <th>Sample:</th>           <td>06-24-2018</td>    <th>  HQIC               </th> <td>2793.838</td> \n",
       "</tr>\n",
       "<tr>\n",
       "  <th></th>                 <td>- 06-13-2021</td>   <th>                     </th>     <td> </td>    \n",
       "</tr>\n",
       "</table>\n",
       "<table class=\"simpletable\">\n",
       "<tr>\n",
       "       <td></td>         <th>coef</th>     <th>std err</th>      <th>z</th>      <th>P>|z|</th>  <th>[0.025</th>    <th>0.975]</th>  \n",
       "</tr>\n",
       "<tr>\n",
       "  <th>const</th>      <td> 1.153e+04</td> <td> 3560.145</td> <td>    3.238</td> <td> 0.001</td> <td> 4551.462</td> <td> 1.85e+04</td>\n",
       "</tr>\n",
       "<tr>\n",
       "  <th>ar.L1.pkgs</th> <td>    0.9728</td> <td>    0.021</td> <td>   47.169</td> <td> 0.000</td> <td>    0.932</td> <td>    1.013</td>\n",
       "</tr>\n",
       "<tr>\n",
       "  <th>ma.L1.pkgs</th> <td>   -0.1407</td> <td>    0.090</td> <td>   -1.569</td> <td> 0.117</td> <td>   -0.317</td> <td>    0.035</td>\n",
       "</tr>\n",
       "<tr>\n",
       "  <th>ma.L2.pkgs</th> <td>   -0.0561</td> <td>    0.104</td> <td>   -0.542</td> <td> 0.588</td> <td>   -0.259</td> <td>    0.147</td>\n",
       "</tr>\n",
       "<tr>\n",
       "  <th>ma.L3.pkgs</th> <td>    0.0306</td> <td>    0.087</td> <td>    0.353</td> <td> 0.724</td> <td>   -0.140</td> <td>    0.201</td>\n",
       "</tr>\n",
       "</table>\n",
       "<table class=\"simpletable\">\n",
       "<caption>Roots</caption>\n",
       "<tr>\n",
       "    <td></td>   <th>            Real</th>  <th>         Imaginary</th> <th>         Modulus</th>  <th>        Frequency</th>\n",
       "</tr>\n",
       "<tr>\n",
       "  <th>AR.1</th> <td>           1.0280</td> <td>          +0.0000j</td> <td>           1.0280</td> <td>           0.0000</td>\n",
       "</tr>\n",
       "<tr>\n",
       "  <th>MA.1</th> <td>          -3.0865</td> <td>          -0.0000j</td> <td>           3.0865</td> <td>          -0.5000</td>\n",
       "</tr>\n",
       "<tr>\n",
       "  <th>MA.2</th> <td>           2.4602</td> <td>          -2.1295j</td> <td>           3.2539</td> <td>          -0.1136</td>\n",
       "</tr>\n",
       "<tr>\n",
       "  <th>MA.3</th> <td>           2.4602</td> <td>          +2.1295j</td> <td>           3.2539</td> <td>           0.1136</td>\n",
       "</tr>\n",
       "</table>"
      ],
      "text/plain": [
       "<class 'statsmodels.iolib.summary.Summary'>\n",
       "\"\"\"\n",
       "                              ARMA Model Results                              \n",
       "==============================================================================\n",
       "Dep. Variable:                   pkgs   No. Observations:                  156\n",
       "Model:                     ARMA(1, 3)   Log Likelihood               -1387.203\n",
       "Method:                       css-mle   S.D. of innovations           1745.950\n",
       "Date:                Sun, 20 Jun 2021   AIC                           2786.406\n",
       "Time:                        21:29:47   BIC                           2804.705\n",
       "Sample:                    06-24-2018   HQIC                          2793.838\n",
       "                         - 06-13-2021                                         \n",
       "==============================================================================\n",
       "                 coef    std err          z      P>|z|      [0.025      0.975]\n",
       "------------------------------------------------------------------------------\n",
       "const       1.153e+04   3560.145      3.238      0.001    4551.462    1.85e+04\n",
       "ar.L1.pkgs     0.9728      0.021     47.169      0.000       0.932       1.013\n",
       "ma.L1.pkgs    -0.1407      0.090     -1.569      0.117      -0.317       0.035\n",
       "ma.L2.pkgs    -0.0561      0.104     -0.542      0.588      -0.259       0.147\n",
       "ma.L3.pkgs     0.0306      0.087      0.353      0.724      -0.140       0.201\n",
       "                                    Roots                                    \n",
       "=============================================================================\n",
       "                  Real          Imaginary           Modulus         Frequency\n",
       "-----------------------------------------------------------------------------\n",
       "AR.1            1.0280           +0.0000j            1.0280            0.0000\n",
       "MA.1           -3.0865           -0.0000j            3.0865           -0.5000\n",
       "MA.2            2.4602           -2.1295j            3.2539           -0.1136\n",
       "MA.3            2.4602           +2.1295j            3.2539            0.1136\n",
       "-----------------------------------------------------------------------------\n",
       "\"\"\""
      ]
     },
     "execution_count": 49,
     "metadata": {},
     "output_type": "execute_result"
    }
   ],
   "source": [
    "fct_model = ARIMA(fcst_data1, order=(1,0,3))\n",
    "fct_fit = fct_model.fit()\n",
    "fct_fit.summary()"
   ]
  },
  {
   "cell_type": "code",
   "execution_count": 48,
   "id": "30e25d17-f4fb-4614-9f87-c9379c5a5390",
   "metadata": {},
   "outputs": [
    {
     "data": {
      "text/plain": [
       "2021-06-20    16675.746530\n",
       "2021-06-27    16561.103905\n",
       "2021-07-04    16413.580251\n",
       "2021-07-11    16280.512270\n",
       "2021-07-18    16151.069551\n",
       "2021-07-25    16025.153326\n",
       "2021-08-01    15902.667522\n",
       "2021-08-08    15783.518682\n",
       "2021-08-15    15667.615894\n",
       "2021-08-22    15554.870724\n",
       "Freq: W-SUN, dtype: float64"
      ]
     },
     "execution_count": 48,
     "metadata": {},
     "output_type": "execute_result"
    }
   ],
   "source": [
    "model_fct = fct_fit.predict(start=156, end=156+352-1)\n",
    "model_fct.head(10)"
   ]
  },
  {
   "cell_type": "markdown",
   "id": "dc093760-4a8d-4448-a69f-1471f591a685",
   "metadata": {},
   "source": [
    "## Fitting the Model with Seasonality (AR+MA)"
   ]
  },
  {
   "cell_type": "code",
   "execution_count": 55,
   "id": "25d61d2e-4aff-4256-a36e-9423badb8d03",
   "metadata": {},
   "outputs": [
    {
     "name": "stderr",
     "output_type": "stream",
     "text": [
      "/home/ukaec/anaconda3/envs/your_env_name/lib/python3.7/site-packages/statsmodels/tsa/arima_model.py:472: FutureWarning: \n",
      "statsmodels.tsa.arima_model.ARMA and statsmodels.tsa.arima_model.ARIMA have\n",
      "been deprecated in favor of statsmodels.tsa.arima.model.ARIMA (note the .\n",
      "between arima and model) and\n",
      "statsmodels.tsa.SARIMAX. These will be removed after the 0.12 release.\n",
      "\n",
      "statsmodels.tsa.arima.model.ARIMA makes use of the statespace framework and\n",
      "is both well tested and maintained.\n",
      "\n",
      "To silence this warning and continue using ARMA and ARIMA until they are\n",
      "removed, use:\n",
      "\n",
      "import warnings\n",
      "warnings.filterwarnings('ignore', 'statsmodels.tsa.arima_model.ARMA',\n",
      "                        FutureWarning)\n",
      "warnings.filterwarnings('ignore', 'statsmodels.tsa.arima_model.ARIMA',\n",
      "                        FutureWarning)\n",
      "\n",
      "  warnings.warn(ARIMA_DEPRECATION_WARN, FutureWarning)\n",
      "/home/ukaec/anaconda3/envs/your_env_name/lib/python3.7/site-packages/statsmodels/tsa/base/tsa_model.py:527: ValueWarning: No frequency information was provided, so inferred frequency W-SUN will be used.\n",
      "  % freq, ValueWarning)\n"
     ]
    },
    {
     "data": {
      "text/plain": [
       "<statsmodels.tsa.arima_model.ARMAResultsWrapper at 0x7fa2766f7150>"
      ]
     },
     "execution_count": 55,
     "metadata": {},
     "output_type": "execute_result"
    }
   ],
   "source": [
    "#without differencing or transformation \n",
    "model1 = ARIMA(train_data1, order=(1,0,3))\n",
    "model_fit1 = model1.fit()\n",
    "model_fit1"
   ]
  },
  {
   "cell_type": "code",
   "execution_count": 58,
   "id": "ad2862a3-8eb0-472c-ad23-50a5d7673c5e",
   "metadata": {},
   "outputs": [
    {
     "data": {
      "text/html": [
       "<table class=\"simpletable\">\n",
       "<caption>ARMA Model Results</caption>\n",
       "<tr>\n",
       "  <th>Dep. Variable:</th>       <td>pkgs</td>       <th>  No. Observations:  </th>    <td>156</td>   \n",
       "</tr>\n",
       "<tr>\n",
       "  <th>Model:</th>            <td>ARMA(1, 3)</td>    <th>  Log Likelihood     </th> <td>-1328.866</td>\n",
       "</tr>\n",
       "<tr>\n",
       "  <th>Method:</th>             <td>css-mle</td>     <th>  S.D. of innovations</th> <td>1201.495</td> \n",
       "</tr>\n",
       "<tr>\n",
       "  <th>Date:</th>          <td>Sun, 20 Jun 2021</td> <th>  AIC                </th> <td>2669.731</td> \n",
       "</tr>\n",
       "<tr>\n",
       "  <th>Time:</th>              <td>21:49:19</td>     <th>  BIC                </th> <td>2688.031</td> \n",
       "</tr>\n",
       "<tr>\n",
       "  <th>Sample:</th>           <td>05-28-2017</td>    <th>  HQIC               </th> <td>2677.164</td> \n",
       "</tr>\n",
       "<tr>\n",
       "  <th></th>                 <td>- 05-17-2020</td>   <th>                     </th>     <td> </td>    \n",
       "</tr>\n",
       "</table>\n",
       "<table class=\"simpletable\">\n",
       "<tr>\n",
       "       <td></td>         <th>coef</th>     <th>std err</th>      <th>z</th>      <th>P>|z|</th>  <th>[0.025</th>    <th>0.975]</th>  \n",
       "</tr>\n",
       "<tr>\n",
       "  <th>const</th>      <td> 7241.9934</td> <td> 2086.746</td> <td>    3.470</td> <td> 0.001</td> <td> 3152.047</td> <td> 1.13e+04</td>\n",
       "</tr>\n",
       "<tr>\n",
       "  <th>ar.L1.pkgs</th> <td>    0.9581</td> <td>    0.037</td> <td>   26.163</td> <td> 0.000</td> <td>    0.886</td> <td>    1.030</td>\n",
       "</tr>\n",
       "<tr>\n",
       "  <th>ma.L1.pkgs</th> <td>   -0.0918</td> <td>    0.100</td> <td>   -0.920</td> <td> 0.357</td> <td>   -0.287</td> <td>    0.104</td>\n",
       "</tr>\n",
       "<tr>\n",
       "  <th>ma.L2.pkgs</th> <td>    0.0223</td> <td>    0.111</td> <td>    0.202</td> <td> 0.840</td> <td>   -0.195</td> <td>    0.239</td>\n",
       "</tr>\n",
       "<tr>\n",
       "  <th>ma.L3.pkgs</th> <td>    0.0773</td> <td>    0.100</td> <td>    0.771</td> <td> 0.440</td> <td>   -0.119</td> <td>    0.274</td>\n",
       "</tr>\n",
       "</table>\n",
       "<table class=\"simpletable\">\n",
       "<caption>Roots</caption>\n",
       "<tr>\n",
       "    <td></td>   <th>            Real</th>  <th>         Imaginary</th> <th>         Modulus</th>  <th>        Frequency</th>\n",
       "</tr>\n",
       "<tr>\n",
       "  <th>AR.1</th> <td>           1.0437</td> <td>          +0.0000j</td> <td>           1.0437</td> <td>           0.0000</td>\n",
       "</tr>\n",
       "<tr>\n",
       "  <th>MA.1</th> <td>           1.1669</td> <td>          -1.8898j</td> <td>           2.2210</td> <td>          -0.1620</td>\n",
       "</tr>\n",
       "<tr>\n",
       "  <th>MA.2</th> <td>           1.1669</td> <td>          +1.8898j</td> <td>           2.2210</td> <td>           0.1620</td>\n",
       "</tr>\n",
       "<tr>\n",
       "  <th>MA.3</th> <td>          -2.6225</td> <td>          -0.0000j</td> <td>           2.6225</td> <td>          -0.5000</td>\n",
       "</tr>\n",
       "</table>"
      ],
      "text/plain": [
       "<class 'statsmodels.iolib.summary.Summary'>\n",
       "\"\"\"\n",
       "                              ARMA Model Results                              \n",
       "==============================================================================\n",
       "Dep. Variable:                   pkgs   No. Observations:                  156\n",
       "Model:                     ARMA(1, 3)   Log Likelihood               -1328.866\n",
       "Method:                       css-mle   S.D. of innovations           1201.495\n",
       "Date:                Sun, 20 Jun 2021   AIC                           2669.731\n",
       "Time:                        21:49:19   BIC                           2688.031\n",
       "Sample:                    05-28-2017   HQIC                          2677.164\n",
       "                         - 05-17-2020                                         \n",
       "==============================================================================\n",
       "                 coef    std err          z      P>|z|      [0.025      0.975]\n",
       "------------------------------------------------------------------------------\n",
       "const       7241.9934   2086.746      3.470      0.001    3152.047    1.13e+04\n",
       "ar.L1.pkgs     0.9581      0.037     26.163      0.000       0.886       1.030\n",
       "ma.L1.pkgs    -0.0918      0.100     -0.920      0.357      -0.287       0.104\n",
       "ma.L2.pkgs     0.0223      0.111      0.202      0.840      -0.195       0.239\n",
       "ma.L3.pkgs     0.0773      0.100      0.771      0.440      -0.119       0.274\n",
       "                                    Roots                                    \n",
       "=============================================================================\n",
       "                  Real          Imaginary           Modulus         Frequency\n",
       "-----------------------------------------------------------------------------\n",
       "AR.1            1.0437           +0.0000j            1.0437            0.0000\n",
       "MA.1            1.1669           -1.8898j            2.2210           -0.1620\n",
       "MA.2            1.1669           +1.8898j            2.2210            0.1620\n",
       "MA.3           -2.6225           -0.0000j            2.6225           -0.5000\n",
       "-----------------------------------------------------------------------------\n",
       "\"\"\""
      ]
     },
     "execution_count": 58,
     "metadata": {},
     "output_type": "execute_result"
    }
   ],
   "source": [
    "model_fit1.summary()"
   ]
  },
  {
   "cell_type": "code",
   "execution_count": 37,
   "id": "23aec786-e7c9-421a-9b3e-18cb16addf69",
   "metadata": {},
   "outputs": [
    {
     "data": {
      "image/png": "[encoded data removed]",
      "text/plain": [
       "<Figure size 432x288 with 2 Axes>"
      ]
     },
     "metadata": {
      "needs_background": "light"
     },
     "output_type": "display_data"
    }
   ],
   "source": [
    "# Plot residual errors\n",
    "residuals = pd.DataFrame(model_fit1.resid)\n",
    "fig, ax = plt.subplots(1,2)\n",
    "residuals.plot(title=\"Residuals\", ax=ax[0])\n",
    "residuals.plot(kind='kde', title='Density', ax=ax[1])\n",
    "plt.show()"
   ]
  },
  {
   "cell_type": "code",
   "execution_count": 59,
   "id": "4a01f0f2-45d3-4d0a-bcf8-50bb3b598da0",
   "metadata": {},
   "outputs": [
    {
     "data": {
      "text/plain": [
       "2021-01-03    9616.931092\n",
       "2021-01-10    9517.484030\n",
       "2021-01-17    9422.201170\n",
       "2021-01-24    9330.908141\n",
       "2021-01-31    9243.437874\n",
       "2021-02-07    9159.630298\n",
       "2021-02-14    9079.332042\n",
       "2021-02-21    9002.396159\n",
       "2021-02-28    8928.681854\n",
       "2021-03-07    8858.054229\n",
       "2021-03-14    8790.384032\n",
       "2021-03-21    8725.547427\n",
       "2021-03-28    8663.425760\n",
       "2021-04-04    8603.905347\n",
       "2021-04-11    8546.877265\n",
       "2021-04-18    8492.237151\n",
       "2021-04-25    8439.885013\n",
       "2021-05-02    8389.725044\n",
       "2021-05-09    8341.665451\n",
       "2021-05-16    8295.618283\n",
       "Freq: W-SUN, dtype: float64"
      ]
     },
     "execution_count": 59,
     "metadata": {},
     "output_type": "execute_result"
    }
   ],
   "source": [
    "pred = model_fit1.predict(start=156, end=156+52-1)\n",
    "pred.tail(20)"
   ]
  },
  {
   "cell_type": "code",
   "execution_count": 60,
   "id": "9977d28a-2aba-4a80-a510-cca249625348",
   "metadata": {},
   "outputs": [],
   "source": [
    "#fct = model_fit1.predict(start=156, end=156+352-1)\n",
    "#fct.tail(10)"
   ]
  },
  {
   "cell_type": "code",
   "execution_count": 61,
   "id": "609f300c-9b45-4b25-a850-f2c3391c4023",
   "metadata": {},
   "outputs": [],
   "source": [
    "#Converting to dataframe \n",
    "#fct.type()\n",
    "#data_fct = fct.to_frame()\n",
    "#data_fct1 = data_fct.reset_index()\n",
    "#data_fct1.columns =['ship_week', 'pkgs_num']\n",
    "#data_fct1"
   ]
  },
  {
   "cell_type": "code",
   "execution_count": 62,
   "id": "e49472be-10ec-43bf-8488-209036a06ab5",
   "metadata": {},
   "outputs": [],
   "source": [
    "#model_fit1.plot_predict(dynamic=False)\n",
    "#plt.show()"
   ]
  },
  {
   "cell_type": "markdown",
   "id": "aaeeb4ca-172f-4b69-a179-cb22393ff3f5",
   "metadata": {},
   "source": [
    "## Forecasts"
   ]
  },
  {
   "cell_type": "code",
   "execution_count": 71,
   "id": "6f70cc42-d33d-42d4-8d9d-247bd93c8850",
   "metadata": {},
   "outputs": [
    {
     "data": {
      "text/plain": [
       "ship_week\n",
       "2018-06-24    4133\n",
       "2018-07-01    3926\n",
       "2018-07-08    4272\n",
       "2018-07-15    7192\n",
       "2018-07-22    4858\n",
       "Name: pkgs, dtype: int64"
      ]
     },
     "execution_count": 71,
     "metadata": {},
     "output_type": "execute_result"
    }
   ],
   "source": [
    "fcst_data = new_zip1[-3*52:]\n",
    "fcst_data2 = fcst_data.iloc[:,1]\n",
    "fcst_data2.head(5)"
   ]
  },
  {
   "cell_type": "code",
   "execution_count": 72,
   "id": "aab4433a-0a87-43c1-8dd6-9bd9b0820acc",
   "metadata": {},
   "outputs": [
    {
     "name": "stderr",
     "output_type": "stream",
     "text": [
      "/home/ukaec/anaconda3/envs/your_env_name/lib/python3.7/site-packages/statsmodels/tsa/arima_model.py:472: FutureWarning: \n",
      "statsmodels.tsa.arima_model.ARMA and statsmodels.tsa.arima_model.ARIMA have\n",
      "been deprecated in favor of statsmodels.tsa.arima.model.ARIMA (note the .\n",
      "between arima and model) and\n",
      "statsmodels.tsa.SARIMAX. These will be removed after the 0.12 release.\n",
      "\n",
      "statsmodels.tsa.arima.model.ARIMA makes use of the statespace framework and\n",
      "is both well tested and maintained.\n",
      "\n",
      "To silence this warning and continue using ARMA and ARIMA until they are\n",
      "removed, use:\n",
      "\n",
      "import warnings\n",
      "warnings.filterwarnings('ignore', 'statsmodels.tsa.arima_model.ARMA',\n",
      "                        FutureWarning)\n",
      "warnings.filterwarnings('ignore', 'statsmodels.tsa.arima_model.ARIMA',\n",
      "                        FutureWarning)\n",
      "\n",
      "  warnings.warn(ARIMA_DEPRECATION_WARN, FutureWarning)\n",
      "/home/ukaec/anaconda3/envs/your_env_name/lib/python3.7/site-packages/statsmodels/tsa/base/tsa_model.py:527: ValueWarning: No frequency information was provided, so inferred frequency W-SUN will be used.\n",
      "  % freq, ValueWarning)\n"
     ]
    },
    {
     "data": {
      "text/html": [
       "<table class=\"simpletable\">\n",
       "<caption>ARMA Model Results</caption>\n",
       "<tr>\n",
       "  <th>Dep. Variable:</th>       <td>pkgs</td>       <th>  No. Observations:  </th>    <td>156</td>   \n",
       "</tr>\n",
       "<tr>\n",
       "  <th>Model:</th>            <td>ARMA(1, 3)</td>    <th>  Log Likelihood     </th> <td>-1387.203</td>\n",
       "</tr>\n",
       "<tr>\n",
       "  <th>Method:</th>             <td>css-mle</td>     <th>  S.D. of innovations</th> <td>1745.950</td> \n",
       "</tr>\n",
       "<tr>\n",
       "  <th>Date:</th>          <td>Sun, 20 Jun 2021</td> <th>  AIC                </th> <td>2786.406</td> \n",
       "</tr>\n",
       "<tr>\n",
       "  <th>Time:</th>              <td>22:02:54</td>     <th>  BIC                </th> <td>2804.705</td> \n",
       "</tr>\n",
       "<tr>\n",
       "  <th>Sample:</th>           <td>06-24-2018</td>    <th>  HQIC               </th> <td>2793.838</td> \n",
       "</tr>\n",
       "<tr>\n",
       "  <th></th>                 <td>- 06-13-2021</td>   <th>                     </th>     <td> </td>    \n",
       "</tr>\n",
       "</table>\n",
       "<table class=\"simpletable\">\n",
       "<tr>\n",
       "       <td></td>         <th>coef</th>     <th>std err</th>      <th>z</th>      <th>P>|z|</th>  <th>[0.025</th>    <th>0.975]</th>  \n",
       "</tr>\n",
       "<tr>\n",
       "  <th>const</th>      <td> 1.153e+04</td> <td> 3560.145</td> <td>    3.238</td> <td> 0.001</td> <td> 4551.462</td> <td> 1.85e+04</td>\n",
       "</tr>\n",
       "<tr>\n",
       "  <th>ar.L1.pkgs</th> <td>    0.9728</td> <td>    0.021</td> <td>   47.169</td> <td> 0.000</td> <td>    0.932</td> <td>    1.013</td>\n",
       "</tr>\n",
       "<tr>\n",
       "  <th>ma.L1.pkgs</th> <td>   -0.1407</td> <td>    0.090</td> <td>   -1.569</td> <td> 0.117</td> <td>   -0.317</td> <td>    0.035</td>\n",
       "</tr>\n",
       "<tr>\n",
       "  <th>ma.L2.pkgs</th> <td>   -0.0561</td> <td>    0.104</td> <td>   -0.542</td> <td> 0.588</td> <td>   -0.259</td> <td>    0.147</td>\n",
       "</tr>\n",
       "<tr>\n",
       "  <th>ma.L3.pkgs</th> <td>    0.0306</td> <td>    0.087</td> <td>    0.353</td> <td> 0.724</td> <td>   -0.140</td> <td>    0.201</td>\n",
       "</tr>\n",
       "</table>\n",
       "<table class=\"simpletable\">\n",
       "<caption>Roots</caption>\n",
       "<tr>\n",
       "    <td></td>   <th>            Real</th>  <th>         Imaginary</th> <th>         Modulus</th>  <th>        Frequency</th>\n",
       "</tr>\n",
       "<tr>\n",
       "  <th>AR.1</th> <td>           1.0280</td> <td>          +0.0000j</td> <td>           1.0280</td> <td>           0.0000</td>\n",
       "</tr>\n",
       "<tr>\n",
       "  <th>MA.1</th> <td>          -3.0865</td> <td>          -0.0000j</td> <td>           3.0865</td> <td>          -0.5000</td>\n",
       "</tr>\n",
       "<tr>\n",
       "  <th>MA.2</th> <td>           2.4602</td> <td>          -2.1295j</td> <td>           3.2539</td> <td>          -0.1136</td>\n",
       "</tr>\n",
       "<tr>\n",
       "  <th>MA.3</th> <td>           2.4602</td> <td>          +2.1295j</td> <td>           3.2539</td> <td>           0.1136</td>\n",
       "</tr>\n",
       "</table>"
      ],
      "text/plain": [
       "<class 'statsmodels.iolib.summary.Summary'>\n",
       "\"\"\"\n",
       "                              ARMA Model Results                              \n",
       "==============================================================================\n",
       "Dep. Variable:                   pkgs   No. Observations:                  156\n",
       "Model:                     ARMA(1, 3)   Log Likelihood               -1387.203\n",
       "Method:                       css-mle   S.D. of innovations           1745.950\n",
       "Date:                Sun, 20 Jun 2021   AIC                           2786.406\n",
       "Time:                        22:02:54   BIC                           2804.705\n",
       "Sample:                    06-24-2018   HQIC                          2793.838\n",
       "                         - 06-13-2021                                         \n",
       "==============================================================================\n",
       "                 coef    std err          z      P>|z|      [0.025      0.975]\n",
       "------------------------------------------------------------------------------\n",
       "const       1.153e+04   3560.145      3.238      0.001    4551.462    1.85e+04\n",
       "ar.L1.pkgs     0.9728      0.021     47.169      0.000       0.932       1.013\n",
       "ma.L1.pkgs    -0.1407      0.090     -1.569      0.117      -0.317       0.035\n",
       "ma.L2.pkgs    -0.0561      0.104     -0.542      0.588      -0.259       0.147\n",
       "ma.L3.pkgs     0.0306      0.087      0.353      0.724      -0.140       0.201\n",
       "                                    Roots                                    \n",
       "=============================================================================\n",
       "                  Real          Imaginary           Modulus         Frequency\n",
       "-----------------------------------------------------------------------------\n",
       "AR.1            1.0280           +0.0000j            1.0280            0.0000\n",
       "MA.1           -3.0865           -0.0000j            3.0865           -0.5000\n",
       "MA.2            2.4602           -2.1295j            3.2539           -0.1136\n",
       "MA.3            2.4602           +2.1295j            3.2539            0.1136\n",
       "-----------------------------------------------------------------------------\n",
       "\"\"\""
      ]
     },
     "execution_count": 72,
     "metadata": {},
     "output_type": "execute_result"
    }
   ],
   "source": [
    "fct_model1 = ARIMA(fcst_data2, order=(1,0,3))\n",
    "fct_fit1 = fct_model1.fit()\n",
    "fct_fit1.summary()"
   ]
  },
  {
   "cell_type": "code",
   "execution_count": 73,
   "id": "5e641c7c-051e-4f80-b2ea-ef98f29f834d",
   "metadata": {},
   "outputs": [
    {
     "data": {
      "text/plain": [
       "2021-06-20    16675.746530\n",
       "2021-06-27    16561.103905\n",
       "2021-07-04    16413.580251\n",
       "2021-07-11    16280.512270\n",
       "2021-07-18    16151.069551\n",
       "2021-07-25    16025.153326\n",
       "2021-08-01    15902.667522\n",
       "2021-08-08    15783.518682\n",
       "2021-08-15    15667.615894\n",
       "2021-08-22    15554.870724\n",
       "Freq: W-SUN, dtype: float64"
      ]
     },
     "execution_count": 73,
     "metadata": {},
     "output_type": "execute_result"
    }
   ],
   "source": [
    "model_fct1 = fct_fit1.predict(start=156, end=156+352-1)\n",
    "model_fct1.head(10)"
   ]
  },
  {
   "cell_type": "markdown",
   "id": "6e6d51cc-30b6-464c-97c0-ef743137ff72",
   "metadata": {},
   "source": [
    "## Seasonal ARIMA Model"
   ]
  },
  {
   "cell_type": "code",
   "execution_count": 100,
   "id": "dff2d457-6109-425b-95cf-c392756e1a96",
   "metadata": {},
   "outputs": [
    {
     "data": {
      "text/html": [
       "<div>\n",
       "<style scoped>\n",
       "    .dataframe tbody tr th:only-of-type {\n",
       "        vertical-align: middle;\n",
       "    }\n",
       "\n",
       "    .dataframe tbody tr th {\n",
       "        vertical-align: top;\n",
       "    }\n",
       "\n",
       "    .dataframe thead th {\n",
       "        text-align: right;\n",
       "    }\n",
       "</style>\n",
       "<table border=\"1\" class=\"dataframe\">\n",
       "  <thead>\n",
       "    <tr style=\"text-align: right;\">\n",
       "      <th></th>\n",
       "      <th>zipcode</th>\n",
       "      <th>pkgs</th>\n",
       "    </tr>\n",
       "    <tr>\n",
       "      <th>ship_week</th>\n",
       "      <th></th>\n",
       "      <th></th>\n",
       "    </tr>\n",
       "  </thead>\n",
       "  <tbody>\n",
       "    <tr>\n",
       "      <th>2017-05-28</th>\n",
       "      <td>V3S</td>\n",
       "      <td>2438</td>\n",
       "    </tr>\n",
       "    <tr>\n",
       "      <th>2017-06-04</th>\n",
       "      <td>V3S</td>\n",
       "      <td>2284</td>\n",
       "    </tr>\n",
       "    <tr>\n",
       "      <th>2017-06-11</th>\n",
       "      <td>V3S</td>\n",
       "      <td>2591</td>\n",
       "    </tr>\n",
       "    <tr>\n",
       "      <th>2017-06-18</th>\n",
       "      <td>V3S</td>\n",
       "      <td>2444</td>\n",
       "    </tr>\n",
       "    <tr>\n",
       "      <th>2017-06-25</th>\n",
       "      <td>V3S</td>\n",
       "      <td>2417</td>\n",
       "    </tr>\n",
       "    <tr>\n",
       "      <th>...</th>\n",
       "      <td>...</td>\n",
       "      <td>...</td>\n",
       "    </tr>\n",
       "    <tr>\n",
       "      <th>2021-05-16</th>\n",
       "      <td>V3S</td>\n",
       "      <td>17145</td>\n",
       "    </tr>\n",
       "    <tr>\n",
       "      <th>2021-05-23</th>\n",
       "      <td>V3S</td>\n",
       "      <td>17811</td>\n",
       "    </tr>\n",
       "    <tr>\n",
       "      <th>2021-05-30</th>\n",
       "      <td>V3S</td>\n",
       "      <td>17214</td>\n",
       "    </tr>\n",
       "    <tr>\n",
       "      <th>2021-06-06</th>\n",
       "      <td>V3S</td>\n",
       "      <td>17273</td>\n",
       "    </tr>\n",
       "    <tr>\n",
       "      <th>2021-06-13</th>\n",
       "      <td>V3S</td>\n",
       "      <td>16790</td>\n",
       "    </tr>\n",
       "  </tbody>\n",
       "</table>\n",
       "<p>212 rows × 2 columns</p>\n",
       "</div>"
      ],
      "text/plain": [
       "           zipcode   pkgs\n",
       "ship_week                \n",
       "2017-05-28     V3S   2438\n",
       "2017-06-04     V3S   2284\n",
       "2017-06-11     V3S   2591\n",
       "2017-06-18     V3S   2444\n",
       "2017-06-25     V3S   2417\n",
       "...            ...    ...\n",
       "2021-05-16     V3S  17145\n",
       "2021-05-23     V3S  17811\n",
       "2021-05-30     V3S  17214\n",
       "2021-06-06     V3S  17273\n",
       "2021-06-13     V3S  16790\n",
       "\n",
       "[212 rows x 2 columns]"
      ]
     },
     "execution_count": 100,
     "metadata": {},
     "output_type": "execute_result"
    }
   ],
   "source": [
    "new_zip1 = new_df[new_df.zipcode == 'V3S']\n",
    "new_zip1"
   ]
  },
  {
   "cell_type": "code",
   "execution_count": 91,
   "id": "509dd9a4-a17d-4200-84fd-cc8052de5a21",
   "metadata": {},
   "outputs": [],
   "source": [
    "new_train = new_zip1[-4*212:156]\n",
    "new_test = new_zip1[-52:]\n",
    "new_fct = new_zip1[-3*52:]"
   ]
  },
  {
   "cell_type": "code",
   "execution_count": 105,
   "id": "e3bcffbf-96a1-4c71-9110-04dee0394154",
   "metadata": {},
   "outputs": [
    {
     "data": {
      "text/plain": [
       "ship_week\n",
       "2017-05-28     2438\n",
       "2017-06-04     2284\n",
       "2017-06-11     2591\n",
       "2017-06-18     2444\n",
       "2017-06-25     2417\n",
       "              ...  \n",
       "2020-04-19    11863\n",
       "2020-04-26    13817\n",
       "2020-05-03    15874\n",
       "2020-05-10    15650\n",
       "2020-05-17    16743\n",
       "Name: pkgs, Length: 156, dtype: int64"
      ]
     },
     "execution_count": 105,
     "metadata": {},
     "output_type": "execute_result"
    }
   ],
   "source": [
    "new_train1 = new_train.iloc[:,1]\n",
    "new_train1"
   ]
  },
  {
   "cell_type": "code",
   "execution_count": 140,
   "id": "5cf2aa4b-5bae-4798-a529-45b10e712a00",
   "metadata": {},
   "outputs": [
    {
     "data": {
      "text/plain": [
       "ship_week\n",
       "2020-06-21    15855\n",
       "2020-06-28    15705\n",
       "2020-07-05    16169\n",
       "2020-07-12    16517\n",
       "2020-07-19    17065\n",
       "Name: pkgs, dtype: int64"
      ]
     },
     "execution_count": 140,
     "metadata": {},
     "output_type": "execute_result"
    }
   ],
   "source": [
    "new_test = new_zip1[-52:]\n",
    "new_test1 = new_test.iloc[:,1]\n",
    "new_test1.head()"
   ]
  },
  {
   "cell_type": "markdown",
   "id": "daa32a48-7523-4fed-b094-11b80a1b934a",
   "metadata": {},
   "source": [
    "## ACF & PACF of the train data "
   ]
  },
  {
   "cell_type": "code",
   "execution_count": 79,
   "id": "bb8d9174-99fa-42d8-93bc-ca6e76f8a34d",
   "metadata": {},
   "outputs": [],
   "source": [
    "#plot_acf(train_data2, lags=20)"
   ]
  },
  {
   "cell_type": "code",
   "execution_count": 80,
   "id": "663403e7-78a7-4013-9cbc-04776a7644e3",
   "metadata": {},
   "outputs": [],
   "source": [
    "#plot_pacf(train_data2, lags=20)"
   ]
  },
  {
   "cell_type": "markdown",
   "id": "b3a0c6cd-0d23-4277-a9e7-3195a70d5960",
   "metadata": {},
   "source": [
    "## ADF TEST"
   ]
  },
  {
   "cell_type": "code",
   "execution_count": 106,
   "id": "7281cd31-0f4c-4ad0-88bf-d6adad4b68fd",
   "metadata": {},
   "outputs": [
    {
     "name": "stdout",
     "output_type": "stream",
     "text": [
      "ADF Statistic: -1.4332072824904105\n",
      "p-value: 0.5662567055036807\n"
     ]
    }
   ],
   "source": [
    "ad_fuller_result = adfuller(new_train1)\n",
    "print(f'ADF Statistic: {ad_fuller_result[0]}')\n",
    "print(f'p-value: {ad_fuller_result[1]}')"
   ]
  },
  {
   "cell_type": "code",
   "execution_count": 87,
   "id": "0ef774b6-5e38-43c9-bcc6-c3f2bf59ddb5",
   "metadata": {},
   "outputs": [
    {
     "data": {
      "image/png": "[encoded data removed]",
      "text/plain": [
       "<Figure size 432x288 with 1 Axes>"
      ]
     },
     "metadata": {
      "needs_background": "light"
     },
     "output_type": "display_data"
    }
   ],
   "source": [
    "#train_data_diff = train_data1.diff()\n",
    "#train_data_diff2 = train_data2.diff().fillna(train_data2)\n",
    "new_train_diff = new_train1.diff().fillna(new_train1)\n",
    "pyplot.plot(new_train_diff)\n",
    "plt.show()\n"
   ]
  },
  {
   "cell_type": "code",
   "execution_count": 125,
   "id": "7f88edc0-6f3f-4ca0-b677-50b3a406c0b4",
   "metadata": {},
   "outputs": [
    {
     "data": {
      "text/plain": [
       "ship_week\n",
       "2017-05-28    2438.0\n",
       "2017-06-04    -154.0\n",
       "2017-06-11     307.0\n",
       "2017-06-18    -147.0\n",
       "2017-06-25     -27.0\n",
       "               ...  \n",
       "2020-04-19     546.0\n",
       "2020-04-26    1954.0\n",
       "2020-05-03    2057.0\n",
       "2020-05-10    -224.0\n",
       "2020-05-17    1093.0\n",
       "Name: pkgs, Length: 156, dtype: float64"
      ]
     },
     "execution_count": 125,
     "metadata": {},
     "output_type": "execute_result"
    }
   ],
   "source": [
    "new_train_diff"
   ]
  },
  {
   "cell_type": "code",
   "execution_count": 108,
   "id": "4a48b9f6-eb5f-4306-b48c-17b79e4e854c",
   "metadata": {},
   "outputs": [
    {
     "name": "stdout",
     "output_type": "stream",
     "text": [
      "ADF Statistic: -14.539490590885732\n",
      "p-value: 5.1736166118473986e-27\n"
     ]
    }
   ],
   "source": [
    "#test for stationary using ADF test \n",
    "ad_fuller_result = adfuller(new_train_diff)\n",
    "print(f'ADF Statistic: {ad_fuller_result[0]}')\n",
    "print(f'p-value: {ad_fuller_result[1]}')"
   ]
  },
  {
   "cell_type": "markdown",
   "id": "c1fd284e-a5ab-4f99-a7ff-ead7e07894e6",
   "metadata": {},
   "source": [
    "## ACF & PACF Plots"
   ]
  },
  {
   "cell_type": "code",
   "execution_count": 97,
   "id": "485cb9cb-0a28-4591-add3-a4edc2dcde93",
   "metadata": {},
   "outputs": [],
   "source": [
    "#plot_acf(train_data_diff2, lags=20)\n",
    "#plot_pacf(train_data_diff2, lags=20)"
   ]
  },
  {
   "cell_type": "markdown",
   "id": "930170f0-170c-46b9-836e-f8e8daca9f5a",
   "metadata": {},
   "source": [
    "## Fitting Model "
   ]
  },
  {
   "cell_type": "code",
   "execution_count": 153,
   "id": "0f36230b-78e8-4716-9257-2bd2f20b3248",
   "metadata": {},
   "outputs": [
    {
     "name": "stdout",
     "output_type": "stream",
     "text": [
      "Collecting tqdm\n",
      "  Downloading tqdm-4.61.1-py2.py3-none-any.whl (75 kB)\n",
      "\u001b[K     |████████████████████████████████| 75 kB 6.6 MB/s  eta 0:00:01\n",
      "\u001b[?25hInstalling collected packages: tqdm\n",
      "Successfully installed tqdm-4.61.1\n",
      "Note: you may need to restart the kernel to use updated packages.\n"
     ]
    }
   ],
   "source": [
    "pip install tqdm "
   ]
  },
  {
   "cell_type": "code",
   "execution_count": 118,
   "id": "240ab343-11b2-4349-affa-456d3165ecec",
   "metadata": {},
   "outputs": [],
   "source": [
    "from statsmodels.tsa.statespace.sarimax import SARIMAX\n",
    "from statsmodels.tsa.holtwinters import ExponentialSmoothing\n",
    "from statsmodels.tsa.stattools import adfuller\n",
    "from tqdm import tqdm_notebook\n",
    "from itertools import product\n",
    "import warnings\n",
    "warnings.filterwarnings('ignore')\n",
    "%matplotlib inline\n",
    "import itertools \n",
    "import pmdarima as pm"
   ]
  },
  {
   "cell_type": "code",
   "execution_count": 25,
   "id": "d44d773b-5318-4e73-a6ff-f5e04d90fb16",
   "metadata": {},
   "outputs": [
    {
     "name": "stdout",
     "output_type": "stream",
     "text": [
      "Collecting pmdarima\n",
      "  Downloading pmdarima-1.8.2-cp37-cp37m-manylinux1_x86_64.whl (1.5 MB)\n",
      "\u001b[K     |████████████████████████████████| 1.5 MB 19.8 MB/s eta 0:00:01\n",
      "\u001b[?25hRequirement already satisfied: numpy~=1.19.0 in ./anaconda3/envs/your_env_name/lib/python3.7/site-packages (from pmdarima) (1.19.4)\n",
      "Requirement already satisfied: statsmodels!=0.12.0,>=0.11 in ./anaconda3/envs/your_env_name/lib/python3.7/site-packages (from pmdarima) (0.12.2)\n",
      "Requirement already satisfied: pandas>=0.19 in ./anaconda3/envs/your_env_name/lib/python3.7/site-packages (from pmdarima) (1.1.4)\n",
      "Requirement already satisfied: scipy>=1.3.2 in ./anaconda3/envs/your_env_name/lib/python3.7/site-packages (from pmdarima) (1.5.3)\n",
      "Requirement already satisfied: scikit-learn>=0.22 in ./anaconda3/envs/your_env_name/lib/python3.7/site-packages (from pmdarima) (0.23.2)\n",
      "Requirement already satisfied: setuptools!=50.0.0,>=38.6.0 in ./anaconda3/envs/your_env_name/lib/python3.7/site-packages (from pmdarima) (52.0.0.post20210125)\n",
      "Requirement already satisfied: urllib3 in ./anaconda3/envs/your_env_name/lib/python3.7/site-packages (from pmdarima) (1.26.4)\n",
      "Requirement already satisfied: Cython!=0.29.18,>=0.29 in ./anaconda3/envs/your_env_name/lib/python3.7/site-packages (from pmdarima) (0.29.23)\n",
      "Requirement already satisfied: joblib>=0.11 in ./anaconda3/envs/your_env_name/lib/python3.7/site-packages (from pmdarima) (1.0.1)\n",
      "Requirement already satisfied: python-dateutil>=2.7.3 in ./anaconda3/envs/your_env_name/lib/python3.7/site-packages (from pandas>=0.19->pmdarima) (2.8.1)\n",
      "Requirement already satisfied: pytz>=2017.2 in ./anaconda3/envs/your_env_name/lib/python3.7/site-packages (from pandas>=0.19->pmdarima) (2021.1)\n",
      "Requirement already satisfied: six>=1.5 in ./anaconda3/envs/your_env_name/lib/python3.7/site-packages (from python-dateutil>=2.7.3->pandas>=0.19->pmdarima) (1.16.0)\n",
      "Requirement already satisfied: threadpoolctl>=2.0.0 in ./anaconda3/envs/your_env_name/lib/python3.7/site-packages (from scikit-learn>=0.22->pmdarima) (2.1.0)\n",
      "Requirement already satisfied: patsy>=0.5 in ./anaconda3/envs/your_env_name/lib/python3.7/site-packages (from statsmodels!=0.12.0,>=0.11->pmdarima) (0.5.1)\n",
      "Installing collected packages: pmdarima\n",
      "Successfully installed pmdarima-1.8.2\n",
      "Note: you may need to restart the kernel to use updated packages.\n"
     ]
    }
   ],
   "source": [
    "pip install pmdarima"
   ]
  },
  {
   "cell_type": "markdown",
   "id": "29160079-5b8f-42e5-afc8-a6e58d750d9f",
   "metadata": {},
   "source": [
    "## pmdarima function"
   ]
  },
  {
   "cell_type": "code",
   "execution_count": 124,
   "id": "10924a17-e361-4034-9463-87e326634675",
   "metadata": {},
   "outputs": [
    {
     "name": "stdout",
     "output_type": "stream",
     "text": [
      "Performing stepwise search to minimize aic\n",
      " ARIMA(1,1,1)(0,1,1)[52]             : AIC=1739.664, Time=5.97 sec\n",
      " ARIMA(0,1,0)(0,1,0)[52]             : AIC=1747.103, Time=0.52 sec\n",
      " ARIMA(1,1,0)(1,1,0)[52]             : AIC=1739.980, Time=1.04 sec\n",
      " ARIMA(0,1,1)(0,1,1)[52]             : AIC=1738.437, Time=1.30 sec\n",
      " ARIMA(0,1,1)(0,1,0)[52]             : AIC=1736.517, Time=0.29 sec\n",
      " ARIMA(0,1,1)(1,1,0)[52]             : AIC=1738.430, Time=1.26 sec\n",
      " ARIMA(0,1,1)(1,1,1)[52]             : AIC=inf, Time=8.25 sec\n",
      " ARIMA(1,1,1)(0,1,0)[52]             : AIC=1737.803, Time=0.88 sec\n",
      " ARIMA(0,1,2)(0,1,0)[52]             : AIC=1738.213, Time=0.73 sec\n",
      " ARIMA(1,1,0)(0,1,0)[52]             : AIC=1738.004, Time=0.18 sec\n",
      " ARIMA(1,1,2)(0,1,0)[52]             : AIC=1739.045, Time=0.94 sec\n",
      " ARIMA(0,1,1)(0,1,0)[52] intercept   : AIC=1737.074, Time=0.70 sec\n",
      "\n",
      "Best model:  ARIMA(0,1,1)(0,1,0)[52]          \n",
      "Total fit time: 22.108 seconds\n"
     ]
    },
    {
     "data": {
      "text/html": [
       "<table class=\"simpletable\">\n",
       "<caption>SARIMAX Results</caption>\n",
       "<tr>\n",
       "  <th>Dep. Variable:</th>                  <td>y</td>                <th>  No. Observations:  </th>    <td>156</td>  \n",
       "</tr>\n",
       "<tr>\n",
       "  <th>Model:</th>           <td>SARIMAX(0, 1, 1)x(0, 1, [], 52)</td> <th>  Log Likelihood     </th> <td>-866.258</td>\n",
       "</tr>\n",
       "<tr>\n",
       "  <th>Date:</th>                   <td>Sun, 20 Jun 2021</td>         <th>  AIC                </th> <td>1736.517</td>\n",
       "</tr>\n",
       "<tr>\n",
       "  <th>Time:</th>                       <td>22:50:24</td>             <th>  BIC                </th> <td>1741.786</td>\n",
       "</tr>\n",
       "<tr>\n",
       "  <th>Sample:</th>                         <td>0</td>                <th>  HQIC               </th> <td>1738.651</td>\n",
       "</tr>\n",
       "<tr>\n",
       "  <th></th>                             <td> - 156</td>              <th>                     </th>     <td> </td>   \n",
       "</tr>\n",
       "<tr>\n",
       "  <th>Covariance Type:</th>               <td>opg</td>               <th>                     </th>     <td> </td>   \n",
       "</tr>\n",
       "</table>\n",
       "<table class=\"simpletable\">\n",
       "<tr>\n",
       "     <td></td>       <th>coef</th>     <th>std err</th>      <th>z</th>      <th>P>|z|</th>  <th>[0.025</th>    <th>0.975]</th>  \n",
       "</tr>\n",
       "<tr>\n",
       "  <th>ma.L1</th>  <td>   -0.3795</td> <td>    0.071</td> <td>   -5.327</td> <td> 0.000</td> <td>   -0.519</td> <td>   -0.240</td>\n",
       "</tr>\n",
       "<tr>\n",
       "  <th>sigma2</th> <td> 1.234e+06</td> <td> 9.74e+04</td> <td>   12.672</td> <td> 0.000</td> <td> 1.04e+06</td> <td> 1.43e+06</td>\n",
       "</tr>\n",
       "</table>\n",
       "<table class=\"simpletable\">\n",
       "<tr>\n",
       "  <th>Ljung-Box (L1) (Q):</th>     <td>0.00</td> <th>  Jarque-Bera (JB):  </th> <td>155.01</td>\n",
       "</tr>\n",
       "<tr>\n",
       "  <th>Prob(Q):</th>                <td>0.99</td> <th>  Prob(JB):          </th>  <td>0.00</td> \n",
       "</tr>\n",
       "<tr>\n",
       "  <th>Heteroskedasticity (H):</th> <td>3.51</td> <th>  Skew:              </th>  <td>1.53</td> \n",
       "</tr>\n",
       "<tr>\n",
       "  <th>Prob(H) (two-sided):</th>    <td>0.00</td> <th>  Kurtosis:          </th>  <td>8.17</td> \n",
       "</tr>\n",
       "</table><br/><br/>Warnings:<br/>[1] Covariance matrix calculated using the outer product of gradients (complex-step)."
      ],
      "text/plain": [
       "<class 'statsmodels.iolib.summary.Summary'>\n",
       "\"\"\"\n",
       "                                      SARIMAX Results                                      \n",
       "===========================================================================================\n",
       "Dep. Variable:                                   y   No. Observations:                  156\n",
       "Model:             SARIMAX(0, 1, 1)x(0, 1, [], 52)   Log Likelihood                -866.258\n",
       "Date:                             Sun, 20 Jun 2021   AIC                           1736.517\n",
       "Time:                                     22:50:24   BIC                           1741.786\n",
       "Sample:                                          0   HQIC                          1738.651\n",
       "                                             - 156                                         \n",
       "Covariance Type:                               opg                                         \n",
       "==============================================================================\n",
       "                 coef    std err          z      P>|z|      [0.025      0.975]\n",
       "------------------------------------------------------------------------------\n",
       "ma.L1         -0.3795      0.071     -5.327      0.000      -0.519      -0.240\n",
       "sigma2      1.234e+06   9.74e+04     12.672      0.000    1.04e+06    1.43e+06\n",
       "===================================================================================\n",
       "Ljung-Box (L1) (Q):                   0.00   Jarque-Bera (JB):               155.01\n",
       "Prob(Q):                              0.99   Prob(JB):                         0.00\n",
       "Heteroskedasticity (H):               3.51   Skew:                             1.53\n",
       "Prob(H) (two-sided):                  0.00   Kurtosis:                         8.17\n",
       "===================================================================================\n",
       "\n",
       "Warnings:\n",
       "[1] Covariance matrix calculated using the outer product of gradients (complex-step).\n",
       "\"\"\""
      ]
     },
     "execution_count": 124,
     "metadata": {},
     "output_type": "execute_result"
    }
   ],
   "source": [
    "# Untransfromed data \n",
    "\n",
    "import pmdarima as pm\n",
    "\n",
    "# Seasonal - fit stepwise auto-ARIMA\n",
    "smodel = pm.auto_arima(new_train1, start_p=1, start_q=1,\n",
    "                         test='adf',\n",
    "                         max_p=3, max_q=3, m=52,\n",
    "                         start_P=0, seasonal=True,\n",
    "                         d=None, D=1, trace=True,\n",
    "                         error_action='ignore',  \n",
    "                         suppress_warnings=True, \n",
    "                         stepwise=True)\n",
    "\n",
    "smodel.summary()"
   ]
  },
  {
   "cell_type": "code",
   "execution_count": 111,
   "id": "0696b737-9652-4977-bfe0-7125878da726",
   "metadata": {},
   "outputs": [
    {
     "name": "stdout",
     "output_type": "stream",
     "text": [
      "Performing stepwise search to minimize aic\n",
      " ARIMA(1,0,1)(0,1,1)[52] intercept   : AIC=1759.926, Time=6.53 sec\n",
      " ARIMA(0,0,0)(0,1,0)[52] intercept   : AIC=1767.875, Time=0.10 sec\n",
      " ARIMA(1,0,0)(1,1,0)[52] intercept   : AIC=1760.884, Time=1.29 sec\n",
      " ARIMA(0,0,1)(0,1,1)[52] intercept   : AIC=1759.096, Time=3.74 sec\n",
      " ARIMA(0,0,0)(0,1,0)[52]             : AIC=1766.194, Time=0.12 sec\n",
      " ARIMA(0,0,1)(0,1,0)[52] intercept   : AIC=1757.101, Time=0.58 sec\n",
      " ARIMA(0,0,1)(1,1,0)[52] intercept   : AIC=1759.095, Time=3.41 sec\n",
      " ARIMA(0,0,1)(1,1,1)[52] intercept   : AIC=inf, Time=4.34 sec\n",
      " ARIMA(1,0,1)(0,1,0)[52] intercept   : AIC=1757.908, Time=1.54 sec\n",
      " ARIMA(0,0,2)(0,1,0)[52] intercept   : AIC=1758.782, Time=0.97 sec\n",
      " ARIMA(1,0,0)(0,1,0)[52] intercept   : AIC=1758.931, Time=0.29 sec\n",
      " ARIMA(1,0,2)(0,1,0)[52] intercept   : AIC=inf, Time=2.49 sec\n",
      " ARIMA(0,0,1)(0,1,0)[52]             : AIC=1755.980, Time=0.20 sec\n",
      " ARIMA(0,0,1)(1,1,0)[52]             : AIC=1757.979, Time=1.00 sec\n",
      " ARIMA(0,0,1)(0,1,1)[52]             : AIC=1757.979, Time=0.99 sec\n",
      " ARIMA(0,0,1)(1,1,1)[52]             : AIC=1759.979, Time=1.44 sec\n",
      " ARIMA(1,0,1)(0,1,0)[52]             : AIC=1757.412, Time=0.44 sec\n",
      " ARIMA(0,0,2)(0,1,0)[52]             : AIC=1757.792, Time=0.82 sec\n",
      " ARIMA(1,0,0)(0,1,0)[52]             : AIC=1757.494, Time=0.23 sec\n",
      " ARIMA(1,0,2)(0,1,0)[52]             : AIC=1758.783, Time=1.03 sec\n",
      "\n",
      "Best model:  ARIMA(0,0,1)(0,1,0)[52]          \n",
      "Total fit time: 31.585 seconds\n"
     ]
    },
    {
     "data": {
      "text/html": [
       "<table class=\"simpletable\">\n",
       "<caption>SARIMAX Results</caption>\n",
       "<tr>\n",
       "  <th>Dep. Variable:</th>                  <td>y</td>                <th>  No. Observations:  </th>    <td>156</td>  \n",
       "</tr>\n",
       "<tr>\n",
       "  <th>Model:</th>           <td>SARIMAX(0, 0, 1)x(0, 1, [], 52)</td> <th>  Log Likelihood     </th> <td>-875.990</td>\n",
       "</tr>\n",
       "<tr>\n",
       "  <th>Date:</th>                   <td>Sun, 20 Jun 2021</td>         <th>  AIC                </th> <td>1755.980</td>\n",
       "</tr>\n",
       "<tr>\n",
       "  <th>Time:</th>                       <td>22:42:32</td>             <th>  BIC                </th> <td>1761.269</td>\n",
       "</tr>\n",
       "<tr>\n",
       "  <th>Sample:</th>                         <td>0</td>                <th>  HQIC               </th> <td>1758.123</td>\n",
       "</tr>\n",
       "<tr>\n",
       "  <th></th>                             <td> - 156</td>              <th>                     </th>     <td> </td>   \n",
       "</tr>\n",
       "<tr>\n",
       "  <th>Covariance Type:</th>               <td>opg</td>               <th>                     </th>     <td> </td>   \n",
       "</tr>\n",
       "</table>\n",
       "<table class=\"simpletable\">\n",
       "<tr>\n",
       "     <td></td>       <th>coef</th>     <th>std err</th>      <th>z</th>      <th>P>|z|</th>  <th>[0.025</th>    <th>0.975]</th>  \n",
       "</tr>\n",
       "<tr>\n",
       "  <th>ma.L1</th>  <td>   -0.3739</td> <td>    0.070</td> <td>   -5.342</td> <td> 0.000</td> <td>   -0.511</td> <td>   -0.237</td>\n",
       "</tr>\n",
       "<tr>\n",
       "  <th>sigma2</th> <td> 1.222e+06</td> <td> 9.51e+04</td> <td>   12.858</td> <td> 0.000</td> <td> 1.04e+06</td> <td> 1.41e+06</td>\n",
       "</tr>\n",
       "</table>\n",
       "<table class=\"simpletable\">\n",
       "<tr>\n",
       "  <th>Ljung-Box (L1) (Q):</th>     <td>0.01</td> <th>  Jarque-Bera (JB):  </th> <td>138.13</td>\n",
       "</tr>\n",
       "<tr>\n",
       "  <th>Prob(Q):</th>                <td>0.93</td> <th>  Prob(JB):          </th>  <td>0.00</td> \n",
       "</tr>\n",
       "<tr>\n",
       "  <th>Heteroskedasticity (H):</th> <td>2.97</td> <th>  Skew:              </th>  <td>1.44</td> \n",
       "</tr>\n",
       "<tr>\n",
       "  <th>Prob(H) (two-sided):</th>    <td>0.00</td> <th>  Kurtosis:          </th>  <td>7.86</td> \n",
       "</tr>\n",
       "</table><br/><br/>Warnings:<br/>[1] Covariance matrix calculated using the outer product of gradients (complex-step)."
      ],
      "text/plain": [
       "<class 'statsmodels.iolib.summary.Summary'>\n",
       "\"\"\"\n",
       "                                      SARIMAX Results                                      \n",
       "===========================================================================================\n",
       "Dep. Variable:                                   y   No. Observations:                  156\n",
       "Model:             SARIMAX(0, 0, 1)x(0, 1, [], 52)   Log Likelihood                -875.990\n",
       "Date:                             Sun, 20 Jun 2021   AIC                           1755.980\n",
       "Time:                                     22:42:32   BIC                           1761.269\n",
       "Sample:                                          0   HQIC                          1758.123\n",
       "                                             - 156                                         \n",
       "Covariance Type:                               opg                                         \n",
       "==============================================================================\n",
       "                 coef    std err          z      P>|z|      [0.025      0.975]\n",
       "------------------------------------------------------------------------------\n",
       "ma.L1         -0.3739      0.070     -5.342      0.000      -0.511      -0.237\n",
       "sigma2      1.222e+06   9.51e+04     12.858      0.000    1.04e+06    1.41e+06\n",
       "===================================================================================\n",
       "Ljung-Box (L1) (Q):                   0.01   Jarque-Bera (JB):               138.13\n",
       "Prob(Q):                              0.93   Prob(JB):                         0.00\n",
       "Heteroskedasticity (H):               2.97   Skew:                             1.44\n",
       "Prob(H) (two-sided):                  0.00   Kurtosis:                         7.86\n",
       "===================================================================================\n",
       "\n",
       "Warnings:\n",
       "[1] Covariance matrix calculated using the outer product of gradients (complex-step).\n",
       "\"\"\""
      ]
     },
     "execution_count": 111,
     "metadata": {},
     "output_type": "execute_result"
    }
   ],
   "source": [
    "#transformed data \n",
    "# Seasonal - fit stepwise auto-ARIMA\n",
    "smodel1 = pm.auto_arima(new_train_diff, start_p=1, start_q=1,\n",
    "                         test='adf',\n",
    "                         max_p=3, max_q=3, m=52,\n",
    "                         start_P=0, seasonal=True,\n",
    "                         d=None, D=1, trace=True,\n",
    "                         error_action='ignore',  \n",
    "                         suppress_warnings=True, \n",
    "                         stepwise=True)\n",
    "\n",
    "smodel1.summary()"
   ]
  },
  {
   "cell_type": "markdown",
   "id": "dd248e75-a059-4c73-87fb-d45fa458fdfe",
   "metadata": {},
   "source": [
    "## US Forecast Parameters "
   ]
  },
  {
   "cell_type": "code",
   "execution_count": 126,
   "id": "d221f74c-9c09-4520-9631-b51ab7829438",
   "metadata": {},
   "outputs": [
    {
     "name": "stdout",
     "output_type": "stream",
     "text": [
      "                                      SARIMAX Results                                      \n",
      "===========================================================================================\n",
      "Dep. Variable:                                pkgs   No. Observations:                  156\n",
      "Model:             SARIMAX(1, 1, 1)x(0, 1, [], 52)   Log Likelihood                -870.404\n",
      "Date:                             Sun, 20 Jun 2021   AIC                           1746.807\n",
      "Time:                                     22:54:49   BIC                           1754.712\n",
      "Sample:                                 05-28-2017   HQIC                          1750.009\n",
      "                                      - 05-17-2020                                         \n",
      "Covariance Type:                               opg                                         \n",
      "==============================================================================\n",
      "                 coef    std err          z      P>|z|      [0.025      0.975]\n",
      "------------------------------------------------------------------------------\n",
      "ar.L1         -0.3158      0.064     -4.947      0.000      -0.441      -0.191\n",
      "ma.L1         -0.9999      0.079    -12.632      0.000      -1.155      -0.845\n",
      "sigma2      1.239e+06   6.42e-08   1.93e+13      0.000    1.24e+06    1.24e+06\n",
      "===================================================================================\n",
      "Ljung-Box (L1) (Q):                   0.16   Jarque-Bera (JB):               126.86\n",
      "Prob(Q):                              0.69   Prob(JB):                         0.00\n",
      "Heteroskedasticity (H):               2.73   Skew:                             1.28\n",
      "Prob(H) (two-sided):                  0.00   Kurtosis:                         7.80\n",
      "===================================================================================\n",
      "\n",
      "Warnings:\n",
      "[1] Covariance matrix calculated using the outer product of gradients (complex-step).\n",
      "[2] Covariance matrix is singular or near-singular, with condition number 4.61e+28. Standard errors may be unstable.\n"
     ]
    }
   ],
   "source": [
    "CA_best_model = SARIMAX(new_train1, order=(1, 1, 1), seasonal_order=(0, 1, 0, 52)).fit(dis=-1)\n",
    "print(best_model.summary())"
   ]
  },
  {
   "cell_type": "code",
   "execution_count": 127,
   "id": "ad9bcfee-b739-467f-a325-6da71ec9806f",
   "metadata": {},
   "outputs": [
    {
     "name": "stdout",
     "output_type": "stream",
     "text": [
      "                                      SARIMAX Results                                      \n",
      "===========================================================================================\n",
      "Dep. Variable:                                pkgs   No. Observations:                  156\n",
      "Model:             SARIMAX(1, 1, 1)x(0, 1, [], 52)   Log Likelihood                -870.404\n",
      "Date:                             Sun, 20 Jun 2021   AIC                           1746.807\n",
      "Time:                                     22:54:58   BIC                           1754.712\n",
      "Sample:                                 05-28-2017   HQIC                          1750.009\n",
      "                                      - 05-17-2020                                         \n",
      "Covariance Type:                               opg                                         \n",
      "==============================================================================\n",
      "                 coef    std err          z      P>|z|      [0.025      0.975]\n",
      "------------------------------------------------------------------------------\n",
      "ar.L1         -0.3158      0.064     -4.947      0.000      -0.441      -0.191\n",
      "ma.L1         -0.9999      0.079    -12.632      0.000      -1.155      -0.845\n",
      "sigma2      1.239e+06   6.42e-08   1.93e+13      0.000    1.24e+06    1.24e+06\n",
      "===================================================================================\n",
      "Ljung-Box (L1) (Q):                   0.16   Jarque-Bera (JB):               126.86\n",
      "Prob(Q):                              0.69   Prob(JB):                         0.00\n",
      "Heteroskedasticity (H):               2.73   Skew:                             1.28\n",
      "Prob(H) (two-sided):                  0.00   Kurtosis:                         7.80\n",
      "===================================================================================\n",
      "\n",
      "Warnings:\n",
      "[1] Covariance matrix calculated using the outer product of gradients (complex-step).\n",
      "[2] Covariance matrix is singular or near-singular, with condition number 4.61e+28. Standard errors may be unstable.\n"
     ]
    }
   ],
   "source": [
    "CA_best_model1 = SARIMAX(new_train_diff, order=(1, 1, 1), seasonal_order=(0, 1, 0, 52)).fit(dis=-1)\n",
    "print(best_model.summary())"
   ]
  },
  {
   "cell_type": "code",
   "execution_count": 128,
   "id": "da2fcb27-4ddf-4645-8898-49f7e29e9fc1",
   "metadata": {},
   "outputs": [
    {
     "data": {
      "text/plain": [
       "2021-01-03    20027.733446\n",
       "2021-01-10    18210.733446\n",
       "2021-01-17    19295.733446\n",
       "2021-01-24    18495.733446\n",
       "2021-01-31    18850.733446\n",
       "2021-02-07    18829.733446\n",
       "2021-02-14    18203.733446\n",
       "2021-02-21    18590.733446\n",
       "2021-02-28    19042.733446\n",
       "2021-03-07    19095.733446\n",
       "2021-03-14    21795.733446\n",
       "2021-03-21    20853.733446\n",
       "2021-03-28    19220.733446\n",
       "2021-04-04    19292.733446\n",
       "2021-04-11    20186.733446\n",
       "2021-04-18    20732.733446\n",
       "2021-04-25    22686.733446\n",
       "2021-05-02    24743.733446\n",
       "2021-05-09    24519.733446\n",
       "2021-05-16    25612.733446\n",
       "Freq: W-SUN, Name: predicted_mean, dtype: float64"
      ]
     },
     "execution_count": 128,
     "metadata": {},
     "output_type": "execute_result"
    }
   ],
   "source": [
    "pred =CA_best_model.predict(start=156, end=156+52-1)\n",
    "pred.tail(20)"
   ]
  },
  {
   "cell_type": "markdown",
   "id": "193c1c42-aaf5-422e-a43e-864cc28bab21",
   "metadata": {},
   "source": [
    "## forecasts"
   ]
  },
  {
   "cell_type": "code",
   "execution_count": 129,
   "id": "11a23c18-093f-4c6e-a8da-ddd57f0f1f2a",
   "metadata": {},
   "outputs": [
    {
     "data": {
      "text/plain": [
       "ship_week\n",
       "2018-06-24     4133\n",
       "2018-07-01     3926\n",
       "2018-07-08     4272\n",
       "2018-07-15     7192\n",
       "2018-07-22     4858\n",
       "              ...  \n",
       "2021-05-16    17145\n",
       "2021-05-23    17811\n",
       "2021-05-30    17214\n",
       "2021-06-06    17273\n",
       "2021-06-13    16790\n",
       "Name: pkgs, Length: 156, dtype: int64"
      ]
     },
     "execution_count": 129,
     "metadata": {},
     "output_type": "execute_result"
    }
   ],
   "source": [
    "fcst_data = new_zip1[-3*52:]\n",
    "fcst_data1 =fcst_data.iloc[:,1] \n",
    "fcst_data1"
   ]
  },
  {
   "cell_type": "code",
   "execution_count": 134,
   "id": "1a76abd4-dc12-4c6d-8898-06cba63cfa31",
   "metadata": {},
   "outputs": [
    {
     "name": "stdout",
     "output_type": "stream",
     "text": [
      "                                      SARIMAX Results                                      \n",
      "===========================================================================================\n",
      "Dep. Variable:                                pkgs   No. Observations:                  156\n",
      "Model:             SARIMAX(1, 1, 1)x(0, 1, [], 52)   Log Likelihood                -912.911\n",
      "Date:                             Sun, 20 Jun 2021   AIC                           1831.822\n",
      "Time:                                     23:10:31   BIC                           1839.726\n",
      "Sample:                                 06-24-2018   HQIC                          1835.023\n",
      "                                      - 06-13-2021                                         \n",
      "Covariance Type:                               opg                                         \n",
      "==============================================================================\n",
      "                 coef    std err          z      P>|z|      [0.025      0.975]\n",
      "------------------------------------------------------------------------------\n",
      "ar.L1          0.2789      0.296      0.943      0.346      -0.301       0.859\n",
      "ma.L1         -0.5962      0.269     -2.217      0.027      -1.123      -0.069\n",
      "sigma2      3.003e+06   2.67e+05     11.236      0.000    2.48e+06    3.53e+06\n",
      "===================================================================================\n",
      "Ljung-Box (L1) (Q):                   0.00   Jarque-Bera (JB):                51.46\n",
      "Prob(Q):                              0.99   Prob(JB):                         0.00\n",
      "Heteroskedasticity (H):               1.83   Skew:                             0.42\n",
      "Prob(H) (two-sided):                  0.08   Kurtosis:                         6.36\n",
      "===================================================================================\n",
      "\n",
      "Warnings:\n",
      "[1] Covariance matrix calculated using the outer product of gradients (complex-step).\n"
     ]
    }
   ],
   "source": [
    "fct_best_model = SARIMAX(fcst_data1, order=(1, 1, 1), seasonal_order=(0, 1, 0, 52)).fit(dis=-1)\n",
    "print(fct_best_model.summary())"
   ]
  },
  {
   "cell_type": "code",
   "execution_count": 133,
   "id": "f524ee7d-6053-433f-a611-3d8096e09763",
   "metadata": {},
   "outputs": [
    {
     "data": {
      "text/plain": [
       "2027-10-31    26379.9813\n",
       "2027-11-07    29576.9813\n",
       "2027-11-14    33830.9813\n",
       "2027-11-21    35134.9813\n",
       "2027-11-28    34030.9813\n",
       "2027-12-05    35838.9813\n",
       "2027-12-12    24376.9813\n",
       "2027-12-19    26202.9813\n",
       "2027-12-26    27803.9813\n",
       "2028-01-02    24384.9813\n",
       "2028-01-09    24356.9813\n",
       "2028-01-16    24392.9813\n",
       "2028-01-23    24051.9813\n",
       "2028-01-30    23678.9813\n",
       "2028-02-06    22644.9813\n",
       "2028-02-13    23646.9813\n",
       "2028-02-20    23429.9813\n",
       "2028-02-27    23340.9813\n",
       "2028-03-05    21536.9813\n",
       "2028-03-12    20859.9813\n",
       "Freq: W-SUN, Name: predicted_mean, dtype: float64"
      ]
     },
     "execution_count": 133,
     "metadata": {},
     "output_type": "execute_result"
    }
   ],
   "source": [
    "fct = fct_best_model.predict(start=156, end=156+352-1)\n",
    "#fct = fct_best_model.predict(fcst_data1)\n",
    "fct.tail(20)"
   ]
  },
  {
   "cell_type": "code",
   "execution_count": 137,
   "id": "e1c8bbb9-57bc-4898-a099-663c3acf1f4e",
   "metadata": {},
   "outputs": [],
   "source": [
    "#for_v_act= pd.merge(data_fct1, data_pred1, on=['ship_week'], \n",
    "                    #how='inner', suffixes= ('_fct', '_act'))\n",
    "#for_v_act.head()"
   ]
  },
  {
   "cell_type": "code",
   "execution_count": 141,
   "id": "cc4db333-9d99-40bf-98cd-1d55a08f7a33",
   "metadata": {},
   "outputs": [
    {
     "data": {
      "image/png": "[encoded data removed]",
      "text/plain": [
       "<Figure size 1200x500 with 1 Axes>"
      ]
     },
     "metadata": {
      "needs_background": "light"
     },
     "output_type": "display_data"
    }
   ],
   "source": [
    "# Plot\n",
    "plt.figure(figsize=(12,5), dpi=100)\n",
    "plt.plot(new_train1, label='training')\n",
    "plt.plot(new_test1, label='test')\n",
    "plt.plot(pred, label='pred')\n",
    "plt.title('training vs Actuals')\n",
    "plt.legend(loc='upper left', fontsize=8)\n",
    "plt.show()"
   ]
  },
  {
   "cell_type": "code",
   "execution_count": 142,
   "id": "df4e601a-4f31-4e10-bfeb-2f63210fdd18",
   "metadata": {},
   "outputs": [
    {
     "data": {
      "image/png": "[encoded data removed]",
      "text/plain": [
       "<Figure size 1200x500 with 1 Axes>"
      ]
     },
     "metadata": {
      "needs_background": "light"
     },
     "output_type": "display_data"
    }
   ],
   "source": [
    "# Plot\n",
    "plt.figure(figsize=(12,5), dpi=100)\n",
    "plt.plot(new_train1, label='training')\n",
    "plt.plot(pred, label='pred')\n",
    "plt.plot(fct, label='forecast', alpha=.5)\n",
    "#plt.plot(data_fct1.loc[(data_fct1.ship_week<'2021-07-01')]['ship_week'], data_fct1.loc[(data_fct1.ship_week<'2021-07-01')]['pkgs_num'],\n",
    "#label ='forecast')\n",
    "#plt.fill_between(lower_series.index, lower_series, upper_series, color='k', alpha=.15)\n",
    "plt.title('Forecast vs predictions')\n",
    "plt.legend(loc='upper left', fontsize=8)\n",
    "plt.show()"
   ]
  },
  {
   "cell_type": "code",
   "execution_count": null,
   "id": "92d6c786-7c3b-4a4b-9200-d7a3d9174ab1",
   "metadata": {},
   "outputs": [],
   "source": []
  }
 ],
 "metadata": {
  "kernelspec": {
   "display_name": "Python 3 (ipykernel)",
   "language": "python",
   "name": "python3"
  },
  "language_info": {
   "codemirror_mode": {
    "name": "ipython",
    "version": 3
   },
   "file_extension": ".py",
   "mimetype": "text/x-python",
   "name": "python",
   "nbconvert_exporter": "python",
   "pygments_lexer": "ipython3",
   "version": "3.9.4"
  }
 },
 "nbformat": 4,
 "nbformat_minor": 5
}
